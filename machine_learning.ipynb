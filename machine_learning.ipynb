{
 "cells": [
  {
   "cell_type": "markdown",
   "metadata": {},
   "source": [
    "# Doğrusal Regresyon Modeli"
   ]
  },
  {
   "cell_type": "markdown",
   "metadata": {},
   "source": [
    "# PROJE_3(MINI)"
   ]
  },
  {
   "cell_type": "code",
   "execution_count": 1,
   "metadata": {},
   "outputs": [
    {
     "data": {
      "text/html": [
       "<div>\n",
       "<style scoped>\n",
       "    .dataframe tbody tr th:only-of-type {\n",
       "        vertical-align: middle;\n",
       "    }\n",
       "\n",
       "    .dataframe tbody tr th {\n",
       "        vertical-align: top;\n",
       "    }\n",
       "\n",
       "    .dataframe thead th {\n",
       "        text-align: right;\n",
       "    }\n",
       "</style>\n",
       "<table border=\"1\" class=\"dataframe\">\n",
       "  <thead>\n",
       "    <tr style=\"text-align: right;\">\n",
       "      <th></th>\n",
       "      <th>TV</th>\n",
       "      <th>radio</th>\n",
       "      <th>newspaper</th>\n",
       "      <th>sales</th>\n",
       "    </tr>\n",
       "  </thead>\n",
       "  <tbody>\n",
       "    <tr>\n",
       "      <td>1</td>\n",
       "      <td>230.1</td>\n",
       "      <td>37.8</td>\n",
       "      <td>69.2</td>\n",
       "      <td>22.1</td>\n",
       "    </tr>\n",
       "    <tr>\n",
       "      <td>2</td>\n",
       "      <td>44.5</td>\n",
       "      <td>39.3</td>\n",
       "      <td>45.1</td>\n",
       "      <td>10.4</td>\n",
       "    </tr>\n",
       "    <tr>\n",
       "      <td>3</td>\n",
       "      <td>17.2</td>\n",
       "      <td>45.9</td>\n",
       "      <td>69.3</td>\n",
       "      <td>9.3</td>\n",
       "    </tr>\n",
       "    <tr>\n",
       "      <td>4</td>\n",
       "      <td>151.5</td>\n",
       "      <td>41.3</td>\n",
       "      <td>58.5</td>\n",
       "      <td>18.5</td>\n",
       "    </tr>\n",
       "    <tr>\n",
       "      <td>5</td>\n",
       "      <td>180.8</td>\n",
       "      <td>10.8</td>\n",
       "      <td>58.4</td>\n",
       "      <td>12.9</td>\n",
       "    </tr>\n",
       "  </tbody>\n",
       "</table>\n",
       "</div>"
      ],
      "text/plain": [
       "      TV  radio  newspaper  sales\n",
       "1  230.1   37.8       69.2   22.1\n",
       "2   44.5   39.3       45.1   10.4\n",
       "3   17.2   45.9       69.3    9.3\n",
       "4  151.5   41.3       58.5   18.5\n",
       "5  180.8   10.8       58.4   12.9"
      ]
     },
     "execution_count": 1,
     "metadata": {},
     "output_type": "execute_result"
    }
   ],
   "source": [
    "import pandas as pd\n",
    "df = pd.read_csv(\"Advertising.csv\", index_col = 0)\n",
    "df.head()"
   ]
  },
  {
   "cell_type": "code",
   "execution_count": 2,
   "metadata": {},
   "outputs": [
    {
     "data": {
      "text/html": [
       "<div>\n",
       "<style scoped>\n",
       "    .dataframe tbody tr th:only-of-type {\n",
       "        vertical-align: middle;\n",
       "    }\n",
       "\n",
       "    .dataframe tbody tr th {\n",
       "        vertical-align: top;\n",
       "    }\n",
       "\n",
       "    .dataframe thead th {\n",
       "        text-align: right;\n",
       "    }\n",
       "</style>\n",
       "<table border=\"1\" class=\"dataframe\">\n",
       "  <thead>\n",
       "    <tr style=\"text-align: right;\">\n",
       "      <th></th>\n",
       "      <th>count</th>\n",
       "      <th>mean</th>\n",
       "      <th>std</th>\n",
       "      <th>min</th>\n",
       "      <th>25%</th>\n",
       "      <th>50%</th>\n",
       "      <th>75%</th>\n",
       "      <th>max</th>\n",
       "    </tr>\n",
       "  </thead>\n",
       "  <tbody>\n",
       "    <tr>\n",
       "      <td>TV</td>\n",
       "      <td>200.0</td>\n",
       "      <td>147.0425</td>\n",
       "      <td>85.854236</td>\n",
       "      <td>0.7</td>\n",
       "      <td>74.375</td>\n",
       "      <td>149.75</td>\n",
       "      <td>218.825</td>\n",
       "      <td>296.4</td>\n",
       "    </tr>\n",
       "    <tr>\n",
       "      <td>radio</td>\n",
       "      <td>200.0</td>\n",
       "      <td>23.2640</td>\n",
       "      <td>14.846809</td>\n",
       "      <td>0.0</td>\n",
       "      <td>9.975</td>\n",
       "      <td>22.90</td>\n",
       "      <td>36.525</td>\n",
       "      <td>49.6</td>\n",
       "    </tr>\n",
       "    <tr>\n",
       "      <td>newspaper</td>\n",
       "      <td>200.0</td>\n",
       "      <td>30.5540</td>\n",
       "      <td>21.778621</td>\n",
       "      <td>0.3</td>\n",
       "      <td>12.750</td>\n",
       "      <td>25.75</td>\n",
       "      <td>45.100</td>\n",
       "      <td>114.0</td>\n",
       "    </tr>\n",
       "    <tr>\n",
       "      <td>sales</td>\n",
       "      <td>200.0</td>\n",
       "      <td>14.0225</td>\n",
       "      <td>5.217457</td>\n",
       "      <td>1.6</td>\n",
       "      <td>10.375</td>\n",
       "      <td>12.90</td>\n",
       "      <td>17.400</td>\n",
       "      <td>27.0</td>\n",
       "    </tr>\n",
       "  </tbody>\n",
       "</table>\n",
       "</div>"
      ],
      "text/plain": [
       "           count      mean        std  min     25%     50%      75%    max\n",
       "TV         200.0  147.0425  85.854236  0.7  74.375  149.75  218.825  296.4\n",
       "radio      200.0   23.2640  14.846809  0.0   9.975   22.90   36.525   49.6\n",
       "newspaper  200.0   30.5540  21.778621  0.3  12.750   25.75   45.100  114.0\n",
       "sales      200.0   14.0225   5.217457  1.6  10.375   12.90   17.400   27.0"
      ]
     },
     "execution_count": 2,
     "metadata": {},
     "output_type": "execute_result"
    }
   ],
   "source": [
    "df.describe().T"
   ]
  },
  {
   "cell_type": "code",
   "execution_count": 3,
   "metadata": {},
   "outputs": [
    {
     "name": "stdout",
     "output_type": "stream",
     "text": [
      "<class 'pandas.core.frame.DataFrame'>\n",
      "Int64Index: 200 entries, 1 to 200\n",
      "Data columns (total 4 columns):\n",
      "TV           200 non-null float64\n",
      "radio        200 non-null float64\n",
      "newspaper    200 non-null float64\n",
      "sales        200 non-null float64\n",
      "dtypes: float64(4)\n",
      "memory usage: 7.8 KB\n"
     ]
    }
   ],
   "source": [
    "df.info()"
   ]
  },
  {
   "cell_type": "code",
   "execution_count": 4,
   "metadata": {},
   "outputs": [],
   "source": [
    "import seaborn as sns\n",
    "sns.jointplot(x = \"TV\", y = \"sales\", data = df, kind = \"reg\");"
   ]
  },
  {
   "cell_type": "code",
   "execution_count": 5,
   "metadata": {},
   "outputs": [
    {
     "data": {
      "text/html": [
       "<div>\n",
       "<style scoped>\n",
       "    .dataframe tbody tr th:only-of-type {\n",
       "        vertical-align: middle;\n",
       "    }\n",
       "\n",
       "    .dataframe tbody tr th {\n",
       "        vertical-align: top;\n",
       "    }\n",
       "\n",
       "    .dataframe thead th {\n",
       "        text-align: right;\n",
       "    }\n",
       "</style>\n",
       "<table border=\"1\" class=\"dataframe\">\n",
       "  <thead>\n",
       "    <tr style=\"text-align: right;\">\n",
       "      <th></th>\n",
       "      <th>TV</th>\n",
       "      <th>radio</th>\n",
       "      <th>newspaper</th>\n",
       "      <th>sales</th>\n",
       "    </tr>\n",
       "  </thead>\n",
       "  <tbody>\n",
       "    <tr>\n",
       "      <td>1</td>\n",
       "      <td>230.1</td>\n",
       "      <td>37.8</td>\n",
       "      <td>69.2</td>\n",
       "      <td>22.1</td>\n",
       "    </tr>\n",
       "    <tr>\n",
       "      <td>2</td>\n",
       "      <td>44.5</td>\n",
       "      <td>39.3</td>\n",
       "      <td>45.1</td>\n",
       "      <td>10.4</td>\n",
       "    </tr>\n",
       "    <tr>\n",
       "      <td>3</td>\n",
       "      <td>17.2</td>\n",
       "      <td>45.9</td>\n",
       "      <td>69.3</td>\n",
       "      <td>9.3</td>\n",
       "    </tr>\n",
       "    <tr>\n",
       "      <td>4</td>\n",
       "      <td>151.5</td>\n",
       "      <td>41.3</td>\n",
       "      <td>58.5</td>\n",
       "      <td>18.5</td>\n",
       "    </tr>\n",
       "    <tr>\n",
       "      <td>5</td>\n",
       "      <td>180.8</td>\n",
       "      <td>10.8</td>\n",
       "      <td>58.4</td>\n",
       "      <td>12.9</td>\n",
       "    </tr>\n",
       "  </tbody>\n",
       "</table>\n",
       "</div>"
      ],
      "text/plain": [
       "      TV  radio  newspaper  sales\n",
       "1  230.1   37.8       69.2   22.1\n",
       "2   44.5   39.3       45.1   10.4\n",
       "3   17.2   45.9       69.3    9.3\n",
       "4  151.5   41.3       58.5   18.5\n",
       "5  180.8   10.8       58.4   12.9"
      ]
     },
     "execution_count": 5,
     "metadata": {},
     "output_type": "execute_result"
    }
   ],
   "source": [
    "df.head()"
   ]
  },
  {
   "cell_type": "code",
   "execution_count": 6,
   "metadata": {},
   "outputs": [],
   "source": [
    "from sklearn.linear_model import LinearRegression"
   ]
  },
  {
   "cell_type": "code",
   "execution_count": 7,
   "metadata": {},
   "outputs": [],
   "source": [
    "X = df[[\"TV\"]]"
   ]
  },
  {
   "cell_type": "code",
   "execution_count": 8,
   "metadata": {},
   "outputs": [
    {
     "data": {
      "text/html": [
       "<div>\n",
       "<style scoped>\n",
       "    .dataframe tbody tr th:only-of-type {\n",
       "        vertical-align: middle;\n",
       "    }\n",
       "\n",
       "    .dataframe tbody tr th {\n",
       "        vertical-align: top;\n",
       "    }\n",
       "\n",
       "    .dataframe thead th {\n",
       "        text-align: right;\n",
       "    }\n",
       "</style>\n",
       "<table border=\"1\" class=\"dataframe\">\n",
       "  <thead>\n",
       "    <tr style=\"text-align: right;\">\n",
       "      <th></th>\n",
       "      <th>TV</th>\n",
       "    </tr>\n",
       "  </thead>\n",
       "  <tbody>\n",
       "    <tr>\n",
       "      <td>1</td>\n",
       "      <td>230.1</td>\n",
       "    </tr>\n",
       "    <tr>\n",
       "      <td>2</td>\n",
       "      <td>44.5</td>\n",
       "    </tr>\n",
       "    <tr>\n",
       "      <td>3</td>\n",
       "      <td>17.2</td>\n",
       "    </tr>\n",
       "    <tr>\n",
       "      <td>4</td>\n",
       "      <td>151.5</td>\n",
       "    </tr>\n",
       "    <tr>\n",
       "      <td>5</td>\n",
       "      <td>180.8</td>\n",
       "    </tr>\n",
       "  </tbody>\n",
       "</table>\n",
       "</div>"
      ],
      "text/plain": [
       "      TV\n",
       "1  230.1\n",
       "2   44.5\n",
       "3   17.2\n",
       "4  151.5\n",
       "5  180.8"
      ]
     },
     "execution_count": 8,
     "metadata": {},
     "output_type": "execute_result"
    }
   ],
   "source": [
    "X.head()"
   ]
  },
  {
   "cell_type": "code",
   "execution_count": 9,
   "metadata": {},
   "outputs": [],
   "source": [
    "y = df[[\"sales\"]]"
   ]
  },
  {
   "cell_type": "markdown",
   "metadata": {},
   "source": [
    "# model"
   ]
  },
  {
   "cell_type": "code",
   "execution_count": 10,
   "metadata": {},
   "outputs": [],
   "source": [
    "reg_model = LinearRegression()"
   ]
  },
  {
   "cell_type": "code",
   "execution_count": 11,
   "metadata": {},
   "outputs": [
    {
     "data": {
      "text/plain": [
       "LinearRegression(copy_X=True, fit_intercept=True, n_jobs=None, normalize=False)"
      ]
     },
     "execution_count": 11,
     "metadata": {},
     "output_type": "execute_result"
    }
   ],
   "source": [
    "reg_model.fit(X, y)"
   ]
  },
  {
   "cell_type": "code",
   "execution_count": 12,
   "metadata": {},
   "outputs": [
    {
     "data": {
      "text/plain": [
       "LinearRegression(copy_X=True, fit_intercept=True, n_jobs=None, normalize=False)"
      ]
     },
     "execution_count": 12,
     "metadata": {},
     "output_type": "execute_result"
    }
   ],
   "source": [
    "reg_model"
   ]
  },
  {
   "cell_type": "code",
   "execution_count": 13,
   "metadata": {},
   "outputs": [
    {
     "data": {
      "text/plain": [
       "array([7.03259355])"
      ]
     },
     "execution_count": 13,
     "metadata": {},
     "output_type": "execute_result"
    }
   ],
   "source": [
    "reg_model.intercept_"
   ]
  },
  {
   "cell_type": "code",
   "execution_count": 14,
   "metadata": {},
   "outputs": [
    {
     "data": {
      "text/plain": [
       "array([[0.04753664]])"
      ]
     },
     "execution_count": 14,
     "metadata": {},
     "output_type": "execute_result"
    }
   ],
   "source": [
    "reg_model.coef_"
   ]
  },
  {
   "cell_type": "code",
   "execution_count": 15,
   "metadata": {},
   "outputs": [
    {
     "data": {
      "text/plain": [
       "0.611875050850071"
      ]
     },
     "execution_count": 15,
     "metadata": {},
     "output_type": "execute_result"
    }
   ],
   "source": [
    "reg_model.score(X, y)"
   ]
  },
  {
   "cell_type": "markdown",
   "metadata": {},
   "source": [
    "# tahmin"
   ]
  },
  {
   "cell_type": "code",
   "execution_count": 16,
   "metadata": {},
   "outputs": [],
   "source": [
    "#y_hat = 7.03 + 0.04*xi"
   ]
  },
  {
   "cell_type": "code",
   "execution_count": 17,
   "metadata": {},
   "outputs": [
    {
     "data": {
      "text/plain": [
       "8.63"
      ]
     },
     "execution_count": 17,
     "metadata": {},
     "output_type": "execute_result"
    }
   ],
   "source": [
    "7.03 + 0.04*40"
   ]
  },
  {
   "cell_type": "code",
   "execution_count": 18,
   "metadata": {},
   "outputs": [
    {
     "data": {
      "image/png": "[encoded data removed]",
      "text/plain": [
       "<Figure size 432x288 with 1 Axes>"
      ]
     },
     "metadata": {
      "needs_background": "light"
     },
     "output_type": "display_data"
    }
   ],
   "source": [
    "import seaborn as sns\n",
    "import matplotlib.pyplot as plt\n",
    "g = sns.regplot(df[\"TV\"], df[\"sales\"], ci=None, scatter_kws={'color':'r', 's':9})\n",
    "g.set_title(\"Model Denklemi: Sales = 7.03 + TV*0.05\")\n",
    "g.set_ylabel(\"Satış Sayısı\")\n",
    "g.set_xlabel(\"TV Harcamaları\")\n",
    "plt.xlim(-10,310)\n",
    "plt.ylim(bottom=0);"
   ]
  },
  {
   "cell_type": "markdown",
   "metadata": {},
   "source": [
    "Sales = 7.03 + 0.05*TV"
   ]
  },
  {
   "cell_type": "code",
   "execution_count": 19,
   "metadata": {},
   "outputs": [
    {
     "data": {
      "text/plain": [
       "array([[30.80091377]])"
      ]
     },
     "execution_count": 19,
     "metadata": {},
     "output_type": "execute_result"
    }
   ],
   "source": [
    "reg_model.intercept_ + reg_model.coef_*500"
   ]
  },
  {
   "cell_type": "code",
   "execution_count": 20,
   "metadata": {},
   "outputs": [
    {
     "data": {
      "text/plain": [
       "array([[14.87613922]])"
      ]
     },
     "execution_count": 20,
     "metadata": {},
     "output_type": "execute_result"
    }
   ],
   "source": [
    "reg_model.predict([[165]])"
   ]
  },
  {
   "cell_type": "code",
   "execution_count": 21,
   "metadata": {},
   "outputs": [],
   "source": [
    "yeni_veri = [[5],[15],[30]]"
   ]
  },
  {
   "cell_type": "code",
   "execution_count": 22,
   "metadata": {},
   "outputs": [
    {
     "data": {
      "text/plain": [
       "array([[7.27027675],\n",
       "       [7.74564316],\n",
       "       [8.45869276]])"
      ]
     },
     "execution_count": 22,
     "metadata": {},
     "output_type": "execute_result"
    }
   ],
   "source": [
    "reg_model.predict(yeni_veri)"
   ]
  },
  {
   "cell_type": "markdown",
   "metadata": {},
   "source": [
    "# Çoklu Doğrusal Regresyon"
   ]
  },
  {
   "cell_type": "code",
   "execution_count": 23,
   "metadata": {},
   "outputs": [
    {
     "data": {
      "text/html": [
       "<div>\n",
       "<style scoped>\n",
       "    .dataframe tbody tr th:only-of-type {\n",
       "        vertical-align: middle;\n",
       "    }\n",
       "\n",
       "    .dataframe tbody tr th {\n",
       "        vertical-align: top;\n",
       "    }\n",
       "\n",
       "    .dataframe thead th {\n",
       "        text-align: right;\n",
       "    }\n",
       "</style>\n",
       "<table border=\"1\" class=\"dataframe\">\n",
       "  <thead>\n",
       "    <tr style=\"text-align: right;\">\n",
       "      <th></th>\n",
       "      <th>TV</th>\n",
       "      <th>radio</th>\n",
       "      <th>newspaper</th>\n",
       "      <th>sales</th>\n",
       "    </tr>\n",
       "  </thead>\n",
       "  <tbody>\n",
       "    <tr>\n",
       "      <td>1</td>\n",
       "      <td>230.1</td>\n",
       "      <td>37.8</td>\n",
       "      <td>69.2</td>\n",
       "      <td>22.1</td>\n",
       "    </tr>\n",
       "    <tr>\n",
       "      <td>2</td>\n",
       "      <td>44.5</td>\n",
       "      <td>39.3</td>\n",
       "      <td>45.1</td>\n",
       "      <td>10.4</td>\n",
       "    </tr>\n",
       "    <tr>\n",
       "      <td>3</td>\n",
       "      <td>17.2</td>\n",
       "      <td>45.9</td>\n",
       "      <td>69.3</td>\n",
       "      <td>9.3</td>\n",
       "    </tr>\n",
       "    <tr>\n",
       "      <td>4</td>\n",
       "      <td>151.5</td>\n",
       "      <td>41.3</td>\n",
       "      <td>58.5</td>\n",
       "      <td>18.5</td>\n",
       "    </tr>\n",
       "    <tr>\n",
       "      <td>5</td>\n",
       "      <td>180.8</td>\n",
       "      <td>10.8</td>\n",
       "      <td>58.4</td>\n",
       "      <td>12.9</td>\n",
       "    </tr>\n",
       "  </tbody>\n",
       "</table>\n",
       "</div>"
      ],
      "text/plain": [
       "      TV  radio  newspaper  sales\n",
       "1  230.1   37.8       69.2   22.1\n",
       "2   44.5   39.3       45.1   10.4\n",
       "3   17.2   45.9       69.3    9.3\n",
       "4  151.5   41.3       58.5   18.5\n",
       "5  180.8   10.8       58.4   12.9"
      ]
     },
     "execution_count": 23,
     "metadata": {},
     "output_type": "execute_result"
    }
   ],
   "source": [
    "import pandas as pd\n",
    "df = pd.read_csv(\"Advertising.csv\", index_col = 0)\n",
    "df.head()"
   ]
  },
  {
   "cell_type": "code",
   "execution_count": 24,
   "metadata": {},
   "outputs": [],
   "source": [
    "X = df.drop('sales', axis=1)\n",
    "y = df[[\"sales\"]]"
   ]
  },
  {
   "cell_type": "markdown",
   "metadata": {},
   "source": [
    "# Model"
   ]
  },
  {
   "cell_type": "code",
   "execution_count": 25,
   "metadata": {},
   "outputs": [],
   "source": [
    "reg_model = LinearRegression()"
   ]
  },
  {
   "cell_type": "code",
   "execution_count": 26,
   "metadata": {},
   "outputs": [
    {
     "data": {
      "text/plain": [
       "LinearRegression(copy_X=True, fit_intercept=True, n_jobs=None, normalize=False)"
      ]
     },
     "execution_count": 26,
     "metadata": {},
     "output_type": "execute_result"
    }
   ],
   "source": [
    "reg_model.fit(X, y)"
   ]
  },
  {
   "cell_type": "code",
   "execution_count": 27,
   "metadata": {},
   "outputs": [
    {
     "data": {
      "text/plain": [
       "array([2.93888937])"
      ]
     },
     "execution_count": 27,
     "metadata": {},
     "output_type": "execute_result"
    }
   ],
   "source": [
    "reg_model.intercept_"
   ]
  },
  {
   "cell_type": "code",
   "execution_count": 28,
   "metadata": {},
   "outputs": [
    {
     "data": {
      "text/plain": [
       "array([[ 0.04576465,  0.18853002, -0.00103749]])"
      ]
     },
     "execution_count": 28,
     "metadata": {},
     "output_type": "execute_result"
    }
   ],
   "source": [
    "reg_model.coef_"
   ]
  },
  {
   "cell_type": "markdown",
   "metadata": {},
   "source": [
    "# Tahmin"
   ]
  },
  {
   "cell_type": "markdown",
   "metadata": {},
   "source": [
    "Sales = 2.94 + TV * 0.04 + radio * 0.19 - newspaper * 0.001\n",
    "\n",
    "30 birim TV, 10 birim radio, 40 birim gazete"
   ]
  },
  {
   "cell_type": "code",
   "execution_count": 29,
   "metadata": {},
   "outputs": [
    {
     "data": {
      "text/plain": [
       "6.3999999999999995"
      ]
     },
     "execution_count": 29,
     "metadata": {},
     "output_type": "execute_result"
    }
   ],
   "source": [
    "2.94 + 40 * 0.04 + 10 * 0.19 - 40 * 0.001"
   ]
  },
  {
   "cell_type": "code",
   "execution_count": 30,
   "metadata": {},
   "outputs": [],
   "source": [
    "yeni_veri = [[40],[10],[40]]\n",
    "import pandas as pd\n",
    "yeni_veri = pd.DataFrame(yeni_veri).T"
   ]
  },
  {
   "cell_type": "code",
   "execution_count": 31,
   "metadata": {},
   "outputs": [
    {
     "data": {
      "text/plain": [
       "array([[6.61327564]])"
      ]
     },
     "execution_count": 31,
     "metadata": {},
     "output_type": "execute_result"
    }
   ],
   "source": [
    "reg_model.predict(yeni_veri)"
   ]
  },
  {
   "cell_type": "code",
   "execution_count": 32,
   "metadata": {},
   "outputs": [],
   "source": [
    "from sklearn.metrics import mean_squared_error"
   ]
  },
  {
   "cell_type": "code",
   "execution_count": 33,
   "metadata": {},
   "outputs": [
    {
     "data": {
      "text/html": [
       "<div>\n",
       "<style scoped>\n",
       "    .dataframe tbody tr th:only-of-type {\n",
       "        vertical-align: middle;\n",
       "    }\n",
       "\n",
       "    .dataframe tbody tr th {\n",
       "        vertical-align: top;\n",
       "    }\n",
       "\n",
       "    .dataframe thead th {\n",
       "        text-align: right;\n",
       "    }\n",
       "</style>\n",
       "<table border=\"1\" class=\"dataframe\">\n",
       "  <thead>\n",
       "    <tr style=\"text-align: right;\">\n",
       "      <th></th>\n",
       "      <th>sales</th>\n",
       "    </tr>\n",
       "  </thead>\n",
       "  <tbody>\n",
       "    <tr>\n",
       "      <td>1</td>\n",
       "      <td>22.1</td>\n",
       "    </tr>\n",
       "    <tr>\n",
       "      <td>2</td>\n",
       "      <td>10.4</td>\n",
       "    </tr>\n",
       "    <tr>\n",
       "      <td>3</td>\n",
       "      <td>9.3</td>\n",
       "    </tr>\n",
       "    <tr>\n",
       "      <td>4</td>\n",
       "      <td>18.5</td>\n",
       "    </tr>\n",
       "    <tr>\n",
       "      <td>5</td>\n",
       "      <td>12.9</td>\n",
       "    </tr>\n",
       "  </tbody>\n",
       "</table>\n",
       "</div>"
      ],
      "text/plain": [
       "   sales\n",
       "1   22.1\n",
       "2   10.4\n",
       "3    9.3\n",
       "4   18.5\n",
       "5   12.9"
      ]
     },
     "execution_count": 33,
     "metadata": {},
     "output_type": "execute_result"
    }
   ],
   "source": [
    "y.head()"
   ]
  },
  {
   "cell_type": "markdown",
   "metadata": {},
   "source": [
    "# Tahmin Başarını Değerlendirme"
   ]
  },
  {
   "cell_type": "code",
   "execution_count": 34,
   "metadata": {},
   "outputs": [
    {
     "data": {
      "text/plain": [
       "LinearRegression(copy_X=True, fit_intercept=True, n_jobs=None, normalize=False)"
      ]
     },
     "execution_count": 34,
     "metadata": {},
     "output_type": "execute_result"
    }
   ],
   "source": [
    "reg_model"
   ]
  },
  {
   "cell_type": "code",
   "execution_count": 35,
   "metadata": {
    "collapsed": true,
    "jupyter": {
     "outputs_hidden": true
    }
   },
   "outputs": [
    {
     "data": {
      "text/plain": [
       "array([[20.52397441],\n",
       "       [12.33785482],\n",
       "       [12.30767078],\n",
       "       [17.59782951],\n",
       "       [13.18867186],\n",
       "       [12.47834763],\n",
       "       [11.72975995],\n",
       "       [12.12295317],\n",
       "       [ 3.72734086],\n",
       "       [12.55084872],\n",
       "       [ 7.0322992 ],\n",
       "       [17.28512918],\n",
       "       [10.57712073],\n",
       "       [ 8.82630048],\n",
       "       [18.43436638],\n",
       "       [20.81929952],\n",
       "       [12.82365674],\n",
       "       [23.22495716],\n",
       "       [ 9.95168206],\n",
       "       [14.16607293],\n",
       "       [18.10076728],\n",
       "       [14.7405382 ],\n",
       "       [ 6.4891503 ],\n",
       "       [16.5459329 ],\n",
       "       [ 8.14651887],\n",
       "       [15.6100386 ],\n",
       "       [14.98951429],\n",
       "       [17.05167344],\n",
       "       [19.41053803],\n",
       "       [ 9.14402389],\n",
       "       [21.6339338 ],\n",
       "       [11.3460929 ],\n",
       "       [ 7.63888314],\n",
       "       [18.86426829],\n",
       "       [ 7.57483051],\n",
       "       [17.00682618],\n",
       "       [23.40590052],\n",
       "       [15.62347779],\n",
       "       [ 9.90868103],\n",
       "       [20.44761039],\n",
       "       [16.37766467],\n",
       "       [17.2959832 ],\n",
       "       [21.59580326],\n",
       "       [13.96385684],\n",
       "       [ 8.88787996],\n",
       "       [15.16152314],\n",
       "       [ 8.87338673],\n",
       "       [21.7226299 ],\n",
       "       [16.26362018],\n",
       "       [ 8.1681656 ],\n",
       "       [12.63121132],\n",
       "       [ 9.33981296],\n",
       "       [20.66297563],\n",
       "       [19.94469957],\n",
       "       [20.37443008],\n",
       "       [21.2926106 ],\n",
       "       [ 8.52771254],\n",
       "       [12.77458802],\n",
       "       [21.89805198],\n",
       "       [18.13348698],\n",
       "       [ 5.74215558],\n",
       "       [22.89067208],\n",
       "       [16.78426073],\n",
       "       [13.21069202],\n",
       "       [16.97773556],\n",
       "       [ 7.84904532],\n",
       "       [ 9.01603163],\n",
       "       [12.0370073 ],\n",
       "       [18.97657924],\n",
       "       [21.10891244],\n",
       "       [17.77949782],\n",
       "       [10.62693815],\n",
       "       [10.36684881],\n",
       "       [ 9.90298206],\n",
       "       [17.32931197],\n",
       "       [11.85832174],\n",
       "       [ 4.47758904],\n",
       "       [13.81190223],\n",
       "       [ 8.81331353],\n",
       "       [ 9.67530328],\n",
       "       [11.44592364],\n",
       "       [14.64794093],\n",
       "       [10.17840799],\n",
       "       [14.42184212],\n",
       "       [20.78136464],\n",
       "       [15.18140789],\n",
       "       [11.59870739],\n",
       "       [15.59378475],\n",
       "       [11.71127101],\n",
       "       [16.92225511],\n",
       "       [ 9.99922965],\n",
       "       [ 4.49631598],\n",
       "       [19.15639616],\n",
       "       [21.22757378],\n",
       "       [10.48212385],\n",
       "       [16.31492112],\n",
       "       [12.63571716],\n",
       "       [15.33707782],\n",
       "       [24.11860723],\n",
       "       [16.94035021],\n",
       "       [13.87595844],\n",
       "       [23.24248685],\n",
       "       [17.64409385],\n",
       "       [14.76221142],\n",
       "       [20.30110878],\n",
       "       [17.93641467],\n",
       "       [ 6.12602215],\n",
       "       [ 7.10850249],\n",
       "       [ 3.58725841],\n",
       "       [19.69293106],\n",
       "       [14.7598741 ],\n",
       "       [21.14027498],\n",
       "       [13.88060985],\n",
       "       [16.40377623],\n",
       "       [15.30509593],\n",
       "       [12.91968895],\n",
       "       [11.97874744],\n",
       "       [ 6.5707774 ],\n",
       "       [15.56609348],\n",
       "       [ 6.82006767],\n",
       "       [14.41010605],\n",
       "       [ 7.83807642],\n",
       "       [13.6264571 ],\n",
       "       [15.0827909 ],\n",
       "       [19.45441306],\n",
       "       [ 9.12734958],\n",
       "       [10.57717411],\n",
       "       [ 6.599669  ],\n",
       "       [22.25549161],\n",
       "       [ 7.88410649],\n",
       "       [10.4276871 ],\n",
       "       [15.57779819],\n",
       "       [ 8.44915012],\n",
       "       [19.26692307],\n",
       "       [11.8368039 ],\n",
       "       [14.00141385],\n",
       "       [11.45348627],\n",
       "       [20.85125198],\n",
       "       [ 9.76842795],\n",
       "       [19.67547632],\n",
       "       [ 9.48964097],\n",
       "       [18.39902932],\n",
       "       [19.24986927],\n",
       "       [ 8.76480262],\n",
       "       [10.09133403],\n",
       "       [ 9.70853872],\n",
       "       [15.29422368],\n",
       "       [23.26086103],\n",
       "       [12.26335941],\n",
       "       [ 9.8272711 ],\n",
       "       [18.36720534],\n",
       "       [10.0095377 ],\n",
       "       [16.3600003 ],\n",
       "       [18.22390132],\n",
       "       [15.50161696],\n",
       "       [ 5.3075589 ],\n",
       "       [15.38485192],\n",
       "       [10.0143112 ],\n",
       "       [10.38419866],\n",
       "       [12.39914823],\n",
       "       [14.21383298],\n",
       "       [13.55914568],\n",
       "       [14.94678206],\n",
       "       [17.35163608],\n",
       "       [11.0682946 ],\n",
       "       [14.22372138],\n",
       "       [10.82439531],\n",
       "       [13.36324677],\n",
       "       [17.1861428 ],\n",
       "       [17.9415563 ],\n",
       "       [ 7.39497997],\n",
       "       [14.35827373],\n",
       "       [ 7.60769238],\n",
       "       [11.97093887],\n",
       "       [13.74435742],\n",
       "       [24.78687031],\n",
       "       [19.9793727 ],\n",
       "       [12.1620464 ],\n",
       "       [16.01099722],\n",
       "       [12.38455495],\n",
       "       [10.5871997 ],\n",
       "       [13.92809918],\n",
       "       [ 6.55467   ],\n",
       "       [24.13310013],\n",
       "       [18.53852096],\n",
       "       [20.80301059],\n",
       "       [ 9.69137313],\n",
       "       [17.07644223],\n",
       "       [18.64430648],\n",
       "       [ 6.05162411],\n",
       "       [12.4891591 ],\n",
       "       [ 8.42401933],\n",
       "       [ 4.46622956],\n",
       "       [18.48695797],\n",
       "       [16.49530044],\n",
       "       [ 5.37034248],\n",
       "       [ 8.16531236],\n",
       "       [12.78592082],\n",
       "       [23.76732149],\n",
       "       [15.17319554]])"
      ]
     },
     "execution_count": 35,
     "metadata": {},
     "output_type": "execute_result"
    }
   ],
   "source": [
    "reg_model.predict(X)"
   ]
  },
  {
   "cell_type": "code",
   "execution_count": 36,
   "metadata": {},
   "outputs": [],
   "source": [
    "y_pred = reg_model.predict(X)"
   ]
  },
  {
   "cell_type": "code",
   "execution_count": 37,
   "metadata": {},
   "outputs": [],
   "source": [
    "mse = mean_squared_error(y, y_pred)"
   ]
  },
  {
   "cell_type": "code",
   "execution_count": 38,
   "metadata": {},
   "outputs": [
    {
     "data": {
      "text/plain": [
       "2.784126314510936"
      ]
     },
     "execution_count": 38,
     "metadata": {},
     "output_type": "execute_result"
    }
   ],
   "source": [
    "mse"
   ]
  },
  {
   "cell_type": "code",
   "execution_count": 39,
   "metadata": {},
   "outputs": [
    {
     "data": {
      "text/plain": [
       "1.6685701407225697"
      ]
     },
     "execution_count": 39,
     "metadata": {},
     "output_type": "execute_result"
    }
   ],
   "source": [
    "import numpy as np\n",
    "rmse = np.sqrt(mse)\n",
    "rmse"
   ]
  },
  {
   "cell_type": "code",
   "execution_count": 40,
   "metadata": {},
   "outputs": [
    {
     "data": {
      "text/html": [
       "<div>\n",
       "<style scoped>\n",
       "    .dataframe tbody tr th:only-of-type {\n",
       "        vertical-align: middle;\n",
       "    }\n",
       "\n",
       "    .dataframe tbody tr th {\n",
       "        vertical-align: top;\n",
       "    }\n",
       "\n",
       "    .dataframe thead th {\n",
       "        text-align: right;\n",
       "    }\n",
       "</style>\n",
       "<table border=\"1\" class=\"dataframe\">\n",
       "  <thead>\n",
       "    <tr style=\"text-align: right;\">\n",
       "      <th></th>\n",
       "      <th>count</th>\n",
       "      <th>mean</th>\n",
       "      <th>std</th>\n",
       "      <th>min</th>\n",
       "      <th>25%</th>\n",
       "      <th>50%</th>\n",
       "      <th>75%</th>\n",
       "      <th>max</th>\n",
       "    </tr>\n",
       "  </thead>\n",
       "  <tbody>\n",
       "    <tr>\n",
       "      <td>TV</td>\n",
       "      <td>200.0</td>\n",
       "      <td>147.0425</td>\n",
       "      <td>85.854236</td>\n",
       "      <td>0.7</td>\n",
       "      <td>74.375</td>\n",
       "      <td>149.75</td>\n",
       "      <td>218.825</td>\n",
       "      <td>296.4</td>\n",
       "    </tr>\n",
       "    <tr>\n",
       "      <td>radio</td>\n",
       "      <td>200.0</td>\n",
       "      <td>23.2640</td>\n",
       "      <td>14.846809</td>\n",
       "      <td>0.0</td>\n",
       "      <td>9.975</td>\n",
       "      <td>22.90</td>\n",
       "      <td>36.525</td>\n",
       "      <td>49.6</td>\n",
       "    </tr>\n",
       "    <tr>\n",
       "      <td>newspaper</td>\n",
       "      <td>200.0</td>\n",
       "      <td>30.5540</td>\n",
       "      <td>21.778621</td>\n",
       "      <td>0.3</td>\n",
       "      <td>12.750</td>\n",
       "      <td>25.75</td>\n",
       "      <td>45.100</td>\n",
       "      <td>114.0</td>\n",
       "    </tr>\n",
       "    <tr>\n",
       "      <td>sales</td>\n",
       "      <td>200.0</td>\n",
       "      <td>14.0225</td>\n",
       "      <td>5.217457</td>\n",
       "      <td>1.6</td>\n",
       "      <td>10.375</td>\n",
       "      <td>12.90</td>\n",
       "      <td>17.400</td>\n",
       "      <td>27.0</td>\n",
       "    </tr>\n",
       "  </tbody>\n",
       "</table>\n",
       "</div>"
      ],
      "text/plain": [
       "           count      mean        std  min     25%     50%      75%    max\n",
       "TV         200.0  147.0425  85.854236  0.7  74.375  149.75  218.825  296.4\n",
       "radio      200.0   23.2640  14.846809  0.0   9.975   22.90   36.525   49.6\n",
       "newspaper  200.0   30.5540  21.778621  0.3  12.750   25.75   45.100  114.0\n",
       "sales      200.0   14.0225   5.217457  1.6  10.375   12.90   17.400   27.0"
      ]
     },
     "execution_count": 40,
     "metadata": {},
     "output_type": "execute_result"
    }
   ],
   "source": [
    "df.describe().T"
   ]
  },
  {
   "cell_type": "markdown",
   "metadata": {},
   "source": [
    "# Model Doğrulama - Holdout Yöntemi (Model Validation)"
   ]
  },
  {
   "cell_type": "code",
   "execution_count": 41,
   "metadata": {},
   "outputs": [],
   "source": [
    "from sklearn.model_selection import train_test_split"
   ]
  },
  {
   "cell_type": "code",
   "execution_count": 42,
   "metadata": {},
   "outputs": [],
   "source": [
    "X_train, X_test, y_train, y_test = train_test_split(X, \n",
    "                                                    y, \n",
    "                                                    test_size = 0.20, random_state = 1)"
   ]
  },
  {
   "cell_type": "code",
   "execution_count": 43,
   "metadata": {},
   "outputs": [
    {
     "data": {
      "text/html": [
       "<div>\n",
       "<style scoped>\n",
       "    .dataframe tbody tr th:only-of-type {\n",
       "        vertical-align: middle;\n",
       "    }\n",
       "\n",
       "    .dataframe tbody tr th {\n",
       "        vertical-align: top;\n",
       "    }\n",
       "\n",
       "    .dataframe thead th {\n",
       "        text-align: right;\n",
       "    }\n",
       "</style>\n",
       "<table border=\"1\" class=\"dataframe\">\n",
       "  <thead>\n",
       "    <tr style=\"text-align: right;\">\n",
       "      <th></th>\n",
       "      <th>TV</th>\n",
       "      <th>radio</th>\n",
       "      <th>newspaper</th>\n",
       "    </tr>\n",
       "  </thead>\n",
       "  <tbody>\n",
       "    <tr>\n",
       "      <td>109</td>\n",
       "      <td>13.1</td>\n",
       "      <td>0.4</td>\n",
       "      <td>25.6</td>\n",
       "    </tr>\n",
       "    <tr>\n",
       "      <td>108</td>\n",
       "      <td>90.4</td>\n",
       "      <td>0.3</td>\n",
       "      <td>23.2</td>\n",
       "    </tr>\n",
       "    <tr>\n",
       "      <td>190</td>\n",
       "      <td>18.7</td>\n",
       "      <td>12.1</td>\n",
       "      <td>23.4</td>\n",
       "    </tr>\n",
       "    <tr>\n",
       "      <td>15</td>\n",
       "      <td>204.1</td>\n",
       "      <td>32.9</td>\n",
       "      <td>46.0</td>\n",
       "    </tr>\n",
       "    <tr>\n",
       "      <td>57</td>\n",
       "      <td>7.3</td>\n",
       "      <td>28.1</td>\n",
       "      <td>41.4</td>\n",
       "    </tr>\n",
       "  </tbody>\n",
       "</table>\n",
       "</div>"
      ],
      "text/plain": [
       "        TV  radio  newspaper\n",
       "109   13.1    0.4       25.6\n",
       "108   90.4    0.3       23.2\n",
       "190   18.7   12.1       23.4\n",
       "15   204.1   32.9       46.0\n",
       "57     7.3   28.1       41.4"
      ]
     },
     "execution_count": 43,
     "metadata": {},
     "output_type": "execute_result"
    }
   ],
   "source": [
    "X_train.head()"
   ]
  },
  {
   "cell_type": "code",
   "execution_count": 44,
   "metadata": {},
   "outputs": [
    {
     "data": {
      "text/html": [
       "<div>\n",
       "<style scoped>\n",
       "    .dataframe tbody tr th:only-of-type {\n",
       "        vertical-align: middle;\n",
       "    }\n",
       "\n",
       "    .dataframe tbody tr th {\n",
       "        vertical-align: top;\n",
       "    }\n",
       "\n",
       "    .dataframe thead th {\n",
       "        text-align: right;\n",
       "    }\n",
       "</style>\n",
       "<table border=\"1\" class=\"dataframe\">\n",
       "  <thead>\n",
       "    <tr style=\"text-align: right;\">\n",
       "      <th></th>\n",
       "      <th>sales</th>\n",
       "    </tr>\n",
       "  </thead>\n",
       "  <tbody>\n",
       "    <tr>\n",
       "      <td>109</td>\n",
       "      <td>5.3</td>\n",
       "    </tr>\n",
       "    <tr>\n",
       "      <td>108</td>\n",
       "      <td>8.7</td>\n",
       "    </tr>\n",
       "    <tr>\n",
       "      <td>190</td>\n",
       "      <td>6.7</td>\n",
       "    </tr>\n",
       "    <tr>\n",
       "      <td>15</td>\n",
       "      <td>19.0</td>\n",
       "    </tr>\n",
       "    <tr>\n",
       "      <td>57</td>\n",
       "      <td>5.5</td>\n",
       "    </tr>\n",
       "  </tbody>\n",
       "</table>\n",
       "</div>"
      ],
      "text/plain": [
       "     sales\n",
       "109    5.3\n",
       "108    8.7\n",
       "190    6.7\n",
       "15    19.0\n",
       "57     5.5"
      ]
     },
     "execution_count": 44,
     "metadata": {},
     "output_type": "execute_result"
    }
   ],
   "source": [
    "y_train.head()"
   ]
  },
  {
   "cell_type": "code",
   "execution_count": 45,
   "metadata": {},
   "outputs": [
    {
     "data": {
      "text/html": [
       "<div>\n",
       "<style scoped>\n",
       "    .dataframe tbody tr th:only-of-type {\n",
       "        vertical-align: middle;\n",
       "    }\n",
       "\n",
       "    .dataframe tbody tr th {\n",
       "        vertical-align: top;\n",
       "    }\n",
       "\n",
       "    .dataframe thead th {\n",
       "        text-align: right;\n",
       "    }\n",
       "</style>\n",
       "<table border=\"1\" class=\"dataframe\">\n",
       "  <thead>\n",
       "    <tr style=\"text-align: right;\">\n",
       "      <th></th>\n",
       "      <th>TV</th>\n",
       "      <th>radio</th>\n",
       "      <th>newspaper</th>\n",
       "    </tr>\n",
       "  </thead>\n",
       "  <tbody>\n",
       "    <tr>\n",
       "      <td>59</td>\n",
       "      <td>210.8</td>\n",
       "      <td>49.6</td>\n",
       "      <td>37.7</td>\n",
       "    </tr>\n",
       "    <tr>\n",
       "      <td>41</td>\n",
       "      <td>202.5</td>\n",
       "      <td>22.3</td>\n",
       "      <td>31.6</td>\n",
       "    </tr>\n",
       "    <tr>\n",
       "      <td>35</td>\n",
       "      <td>95.7</td>\n",
       "      <td>1.4</td>\n",
       "      <td>7.4</td>\n",
       "    </tr>\n",
       "    <tr>\n",
       "      <td>103</td>\n",
       "      <td>280.2</td>\n",
       "      <td>10.1</td>\n",
       "      <td>21.4</td>\n",
       "    </tr>\n",
       "    <tr>\n",
       "      <td>185</td>\n",
       "      <td>253.8</td>\n",
       "      <td>21.3</td>\n",
       "      <td>30.0</td>\n",
       "    </tr>\n",
       "  </tbody>\n",
       "</table>\n",
       "</div>"
      ],
      "text/plain": [
       "        TV  radio  newspaper\n",
       "59   210.8   49.6       37.7\n",
       "41   202.5   22.3       31.6\n",
       "35    95.7    1.4        7.4\n",
       "103  280.2   10.1       21.4\n",
       "185  253.8   21.3       30.0"
      ]
     },
     "execution_count": 45,
     "metadata": {},
     "output_type": "execute_result"
    }
   ],
   "source": [
    "X_test.head()"
   ]
  },
  {
   "cell_type": "code",
   "execution_count": 46,
   "metadata": {},
   "outputs": [
    {
     "data": {
      "text/html": [
       "<div>\n",
       "<style scoped>\n",
       "    .dataframe tbody tr th:only-of-type {\n",
       "        vertical-align: middle;\n",
       "    }\n",
       "\n",
       "    .dataframe tbody tr th {\n",
       "        vertical-align: top;\n",
       "    }\n",
       "\n",
       "    .dataframe thead th {\n",
       "        text-align: right;\n",
       "    }\n",
       "</style>\n",
       "<table border=\"1\" class=\"dataframe\">\n",
       "  <thead>\n",
       "    <tr style=\"text-align: right;\">\n",
       "      <th></th>\n",
       "      <th>sales</th>\n",
       "    </tr>\n",
       "  </thead>\n",
       "  <tbody>\n",
       "    <tr>\n",
       "      <td>59</td>\n",
       "      <td>23.8</td>\n",
       "    </tr>\n",
       "    <tr>\n",
       "      <td>41</td>\n",
       "      <td>16.6</td>\n",
       "    </tr>\n",
       "    <tr>\n",
       "      <td>35</td>\n",
       "      <td>9.5</td>\n",
       "    </tr>\n",
       "    <tr>\n",
       "      <td>103</td>\n",
       "      <td>14.8</td>\n",
       "    </tr>\n",
       "    <tr>\n",
       "      <td>185</td>\n",
       "      <td>17.6</td>\n",
       "    </tr>\n",
       "  </tbody>\n",
       "</table>\n",
       "</div>"
      ],
      "text/plain": [
       "     sales\n",
       "59    23.8\n",
       "41    16.6\n",
       "35     9.5\n",
       "103   14.8\n",
       "185   17.6"
      ]
     },
     "execution_count": 46,
     "metadata": {},
     "output_type": "execute_result"
    }
   ],
   "source": [
    "y_test.head()"
   ]
  },
  {
   "cell_type": "code",
   "execution_count": 47,
   "metadata": {},
   "outputs": [
    {
     "data": {
      "text/plain": [
       "(160, 3)"
      ]
     },
     "execution_count": 47,
     "metadata": {},
     "output_type": "execute_result"
    }
   ],
   "source": [
    "X_train.shape"
   ]
  },
  {
   "cell_type": "code",
   "execution_count": 48,
   "metadata": {},
   "outputs": [
    {
     "data": {
      "text/plain": [
       "(40, 3)"
      ]
     },
     "execution_count": 48,
     "metadata": {},
     "output_type": "execute_result"
    }
   ],
   "source": [
    "X_test.shape"
   ]
  },
  {
   "cell_type": "code",
   "execution_count": 49,
   "metadata": {},
   "outputs": [
    {
     "data": {
      "text/plain": [
       "LinearRegression(copy_X=True, fit_intercept=True, n_jobs=None, normalize=False)"
      ]
     },
     "execution_count": 49,
     "metadata": {},
     "output_type": "execute_result"
    }
   ],
   "source": [
    "reg_model = LinearRegression()\n",
    "reg_model.fit(X_train, y_train)"
   ]
  },
  {
   "cell_type": "code",
   "execution_count": 50,
   "metadata": {},
   "outputs": [],
   "source": [
    "y_pred = reg_model.predict(X_train)"
   ]
  },
  {
   "cell_type": "code",
   "execution_count": 51,
   "metadata": {},
   "outputs": [
    {
     "data": {
      "text/plain": [
       "1.7369025901470923"
      ]
     },
     "execution_count": 51,
     "metadata": {},
     "output_type": "execute_result"
    }
   ],
   "source": [
    "#egitim hatasi\n",
    "np.sqrt(mean_squared_error(y_train, y_pred))"
   ]
  },
  {
   "cell_type": "code",
   "execution_count": 52,
   "metadata": {},
   "outputs": [],
   "source": [
    "y_pred = reg_model.predict(X_test)"
   ]
  },
  {
   "cell_type": "code",
   "execution_count": 53,
   "metadata": {},
   "outputs": [
    {
     "data": {
      "text/plain": [
       "1.4113417558581578"
      ]
     },
     "execution_count": 53,
     "metadata": {},
     "output_type": "execute_result"
    }
   ],
   "source": [
    "#test hatasi\n",
    "np.sqrt(mean_squared_error(y_test, y_pred))"
   ]
  },
  {
   "cell_type": "markdown",
   "metadata": {},
   "source": [
    "# Model Doğrulama - K-Fold CV "
   ]
  },
  {
   "cell_type": "code",
   "execution_count": 54,
   "metadata": {},
   "outputs": [],
   "source": [
    "from sklearn.model_selection import cross_val_score"
   ]
  },
  {
   "cell_type": "code",
   "execution_count": 55,
   "metadata": {},
   "outputs": [],
   "source": [
    "reg_model = LinearRegression()"
   ]
  },
  {
   "cell_type": "code",
   "execution_count": 56,
   "metadata": {},
   "outputs": [
    {
     "data": {
      "text/plain": [
       "array([3.56038438, 3.29767522, 2.08943356, 2.82474283, 1.3027754 ,\n",
       "       1.74163618, 8.17338214, 2.11409746, 3.04273109, 2.45281793])"
      ]
     },
     "execution_count": 56,
     "metadata": {},
     "output_type": "execute_result"
    }
   ],
   "source": [
    "#1.yol\n",
    "-cross_val_score(reg_model, X, y, cv = 10, scoring = \"neg_mean_squared_error\")"
   ]
  },
  {
   "cell_type": "code",
   "execution_count": 57,
   "metadata": {},
   "outputs": [
    {
     "data": {
      "text/plain": [
       "3.059967618118513"
      ]
     },
     "execution_count": 57,
     "metadata": {},
     "output_type": "execute_result"
    }
   ],
   "source": [
    "#mse\n",
    "np.mean(-cross_val_score(reg_model, X, y, cv = 10, scoring = \"neg_mean_squared_error\"))"
   ]
  },
  {
   "cell_type": "code",
   "execution_count": 58,
   "metadata": {},
   "outputs": [
    {
     "data": {
      "text/plain": [
       "1.8314070401702731"
      ]
     },
     "execution_count": 58,
     "metadata": {},
     "output_type": "execute_result"
    }
   ],
   "source": [
    "np.std(-cross_val_score(reg_model, X, y, cv = 10, scoring = \"neg_mean_squared_error\"))"
   ]
  },
  {
   "cell_type": "code",
   "execution_count": 59,
   "metadata": {},
   "outputs": [
    {
     "data": {
      "text/plain": [
       "1.7492763126843378"
      ]
     },
     "execution_count": 59,
     "metadata": {},
     "output_type": "execute_result"
    }
   ],
   "source": [
    "#rmse\n",
    "np.sqrt(np.mean(-cross_val_score(reg_model, X, y, cv = 10, scoring = \"neg_mean_squared_error\")))"
   ]
  },
  {
   "cell_type": "code",
   "execution_count": 60,
   "metadata": {},
   "outputs": [],
   "source": [
    "#2.yol\n",
    "X_train, X_test, y_train, y_test = train_test_split(X, \n",
    "                                                    y, \n",
    "                                                    test_size = 0.20, random_state = 1)"
   ]
  },
  {
   "cell_type": "code",
   "execution_count": 61,
   "metadata": {},
   "outputs": [
    {
     "data": {
      "text/plain": [
       "LinearRegression(copy_X=True, fit_intercept=True, n_jobs=None, normalize=False)"
      ]
     },
     "execution_count": 61,
     "metadata": {},
     "output_type": "execute_result"
    }
   ],
   "source": [
    "reg_model = LinearRegression()\n",
    "reg_model.fit(X_train, y_train)"
   ]
  },
  {
   "cell_type": "code",
   "execution_count": 62,
   "metadata": {},
   "outputs": [
    {
     "data": {
      "text/plain": [
       "1.7854163438661466"
      ]
     },
     "execution_count": 62,
     "metadata": {},
     "output_type": "execute_result"
    }
   ],
   "source": [
    "np.sqrt(np.mean(-cross_val_score(reg_model, X_train, y_train, cv = 10, scoring = \"neg_mean_squared_error\")))"
   ]
  },
  {
   "cell_type": "code",
   "execution_count": 63,
   "metadata": {},
   "outputs": [],
   "source": [
    "#test\n",
    "y_pred = reg_model.predict(X_test)"
   ]
  },
  {
   "cell_type": "code",
   "execution_count": 64,
   "metadata": {},
   "outputs": [
    {
     "data": {
      "text/plain": [
       "1.4113417558581578"
      ]
     },
     "execution_count": 64,
     "metadata": {},
     "output_type": "execute_result"
    }
   ],
   "source": [
    "#test hatasi\n",
    "np.sqrt(mean_squared_error(y_test, y_pred))"
   ]
  },
  {
   "cell_type": "markdown",
   "metadata": {},
   "source": [
    "# PROJE 3 (Maaş Tahmin Modeli Geliştirmek)"
   ]
  },
  {
   "cell_type": "markdown",
   "metadata": {},
   "source": [
    "# Ridge Regresyon"
   ]
  },
  {
   "cell_type": "code",
   "execution_count": 65,
   "metadata": {},
   "outputs": [],
   "source": [
    "import numpy as np\n",
    "import pandas as pd\n",
    "from sklearn.linear_model import Ridge\n",
    "from sklearn.metrics import mean_squared_error,r2_score\n",
    "from sklearn.model_selection import train_test_split, cross_val_score\n",
    "from sklearn import model_selection\n",
    "import matplotlib.pyplot as plt\n",
    "from sklearn.linear_model import RidgeCV"
   ]
  },
  {
   "cell_type": "code",
   "execution_count": 66,
   "metadata": {},
   "outputs": [],
   "source": [
    "df = pd.read_csv(\"Hitters.csv\")"
   ]
  },
  {
   "cell_type": "code",
   "execution_count": 67,
   "metadata": {},
   "outputs": [
    {
     "data": {
      "text/html": [
       "<div>\n",
       "<style scoped>\n",
       "    .dataframe tbody tr th:only-of-type {\n",
       "        vertical-align: middle;\n",
       "    }\n",
       "\n",
       "    .dataframe tbody tr th {\n",
       "        vertical-align: top;\n",
       "    }\n",
       "\n",
       "    .dataframe thead th {\n",
       "        text-align: right;\n",
       "    }\n",
       "</style>\n",
       "<table border=\"1\" class=\"dataframe\">\n",
       "  <thead>\n",
       "    <tr style=\"text-align: right;\">\n",
       "      <th></th>\n",
       "      <th>AtBat</th>\n",
       "      <th>Hits</th>\n",
       "      <th>HmRun</th>\n",
       "      <th>Runs</th>\n",
       "      <th>RBI</th>\n",
       "      <th>Walks</th>\n",
       "      <th>Years</th>\n",
       "      <th>CAtBat</th>\n",
       "      <th>CHits</th>\n",
       "      <th>CHmRun</th>\n",
       "      <th>CRuns</th>\n",
       "      <th>CRBI</th>\n",
       "      <th>CWalks</th>\n",
       "      <th>League</th>\n",
       "      <th>Division</th>\n",
       "      <th>PutOuts</th>\n",
       "      <th>Assists</th>\n",
       "      <th>Errors</th>\n",
       "      <th>Salary</th>\n",
       "      <th>NewLeague</th>\n",
       "    </tr>\n",
       "  </thead>\n",
       "  <tbody>\n",
       "    <tr>\n",
       "      <td>0</td>\n",
       "      <td>293</td>\n",
       "      <td>66</td>\n",
       "      <td>1</td>\n",
       "      <td>30</td>\n",
       "      <td>29</td>\n",
       "      <td>14</td>\n",
       "      <td>1</td>\n",
       "      <td>293</td>\n",
       "      <td>66</td>\n",
       "      <td>1</td>\n",
       "      <td>30</td>\n",
       "      <td>29</td>\n",
       "      <td>14</td>\n",
       "      <td>A</td>\n",
       "      <td>E</td>\n",
       "      <td>446</td>\n",
       "      <td>33</td>\n",
       "      <td>20</td>\n",
       "      <td>NaN</td>\n",
       "      <td>A</td>\n",
       "    </tr>\n",
       "    <tr>\n",
       "      <td>1</td>\n",
       "      <td>315</td>\n",
       "      <td>81</td>\n",
       "      <td>7</td>\n",
       "      <td>24</td>\n",
       "      <td>38</td>\n",
       "      <td>39</td>\n",
       "      <td>14</td>\n",
       "      <td>3449</td>\n",
       "      <td>835</td>\n",
       "      <td>69</td>\n",
       "      <td>321</td>\n",
       "      <td>414</td>\n",
       "      <td>375</td>\n",
       "      <td>N</td>\n",
       "      <td>W</td>\n",
       "      <td>632</td>\n",
       "      <td>43</td>\n",
       "      <td>10</td>\n",
       "      <td>475.0</td>\n",
       "      <td>N</td>\n",
       "    </tr>\n",
       "    <tr>\n",
       "      <td>2</td>\n",
       "      <td>479</td>\n",
       "      <td>130</td>\n",
       "      <td>18</td>\n",
       "      <td>66</td>\n",
       "      <td>72</td>\n",
       "      <td>76</td>\n",
       "      <td>3</td>\n",
       "      <td>1624</td>\n",
       "      <td>457</td>\n",
       "      <td>63</td>\n",
       "      <td>224</td>\n",
       "      <td>266</td>\n",
       "      <td>263</td>\n",
       "      <td>A</td>\n",
       "      <td>W</td>\n",
       "      <td>880</td>\n",
       "      <td>82</td>\n",
       "      <td>14</td>\n",
       "      <td>480.0</td>\n",
       "      <td>A</td>\n",
       "    </tr>\n",
       "    <tr>\n",
       "      <td>3</td>\n",
       "      <td>496</td>\n",
       "      <td>141</td>\n",
       "      <td>20</td>\n",
       "      <td>65</td>\n",
       "      <td>78</td>\n",
       "      <td>37</td>\n",
       "      <td>11</td>\n",
       "      <td>5628</td>\n",
       "      <td>1575</td>\n",
       "      <td>225</td>\n",
       "      <td>828</td>\n",
       "      <td>838</td>\n",
       "      <td>354</td>\n",
       "      <td>N</td>\n",
       "      <td>E</td>\n",
       "      <td>200</td>\n",
       "      <td>11</td>\n",
       "      <td>3</td>\n",
       "      <td>500.0</td>\n",
       "      <td>N</td>\n",
       "    </tr>\n",
       "    <tr>\n",
       "      <td>4</td>\n",
       "      <td>321</td>\n",
       "      <td>87</td>\n",
       "      <td>10</td>\n",
       "      <td>39</td>\n",
       "      <td>42</td>\n",
       "      <td>30</td>\n",
       "      <td>2</td>\n",
       "      <td>396</td>\n",
       "      <td>101</td>\n",
       "      <td>12</td>\n",
       "      <td>48</td>\n",
       "      <td>46</td>\n",
       "      <td>33</td>\n",
       "      <td>N</td>\n",
       "      <td>E</td>\n",
       "      <td>805</td>\n",
       "      <td>40</td>\n",
       "      <td>4</td>\n",
       "      <td>91.5</td>\n",
       "      <td>N</td>\n",
       "    </tr>\n",
       "  </tbody>\n",
       "</table>\n",
       "</div>"
      ],
      "text/plain": [
       "   AtBat  Hits  HmRun  Runs  RBI  Walks  Years  CAtBat  CHits  CHmRun  CRuns  \\\n",
       "0    293    66      1    30   29     14      1     293     66       1     30   \n",
       "1    315    81      7    24   38     39     14    3449    835      69    321   \n",
       "2    479   130     18    66   72     76      3    1624    457      63    224   \n",
       "3    496   141     20    65   78     37     11    5628   1575     225    828   \n",
       "4    321    87     10    39   42     30      2     396    101      12     48   \n",
       "\n",
       "   CRBI  CWalks League Division  PutOuts  Assists  Errors  Salary NewLeague  \n",
       "0    29      14      A        E      446       33      20     NaN         A  \n",
       "1   414     375      N        W      632       43      10   475.0         N  \n",
       "2   266     263      A        W      880       82      14   480.0         A  \n",
       "3   838     354      N        E      200       11       3   500.0         N  \n",
       "4    46      33      N        E      805       40       4    91.5         N  "
      ]
     },
     "execution_count": 67,
     "metadata": {},
     "output_type": "execute_result"
    }
   ],
   "source": [
    "df.head()"
   ]
  },
  {
   "cell_type": "code",
   "execution_count": 68,
   "metadata": {},
   "outputs": [
    {
     "data": {
      "text/plain": [
       "(322, 20)"
      ]
     },
     "execution_count": 68,
     "metadata": {},
     "output_type": "execute_result"
    }
   ],
   "source": [
    "df.shape"
   ]
  },
  {
   "cell_type": "code",
   "execution_count": 69,
   "metadata": {},
   "outputs": [],
   "source": [
    "df = df.dropna()"
   ]
  },
  {
   "cell_type": "code",
   "execution_count": 70,
   "metadata": {},
   "outputs": [],
   "source": [
    "df = pd.get_dummies(df, columns = ['League', 'Division', 'NewLeague'], drop_first = True)"
   ]
  },
  {
   "cell_type": "code",
   "execution_count": 71,
   "metadata": {},
   "outputs": [
    {
     "data": {
      "text/html": [
       "<div>\n",
       "<style scoped>\n",
       "    .dataframe tbody tr th:only-of-type {\n",
       "        vertical-align: middle;\n",
       "    }\n",
       "\n",
       "    .dataframe tbody tr th {\n",
       "        vertical-align: top;\n",
       "    }\n",
       "\n",
       "    .dataframe thead th {\n",
       "        text-align: right;\n",
       "    }\n",
       "</style>\n",
       "<table border=\"1\" class=\"dataframe\">\n",
       "  <thead>\n",
       "    <tr style=\"text-align: right;\">\n",
       "      <th></th>\n",
       "      <th>AtBat</th>\n",
       "      <th>Hits</th>\n",
       "      <th>HmRun</th>\n",
       "      <th>Runs</th>\n",
       "      <th>RBI</th>\n",
       "      <th>Walks</th>\n",
       "      <th>Years</th>\n",
       "      <th>CAtBat</th>\n",
       "      <th>CHits</th>\n",
       "      <th>CHmRun</th>\n",
       "      <th>CRuns</th>\n",
       "      <th>CRBI</th>\n",
       "      <th>CWalks</th>\n",
       "      <th>PutOuts</th>\n",
       "      <th>Assists</th>\n",
       "      <th>Errors</th>\n",
       "      <th>Salary</th>\n",
       "      <th>League_N</th>\n",
       "      <th>Division_W</th>\n",
       "      <th>NewLeague_N</th>\n",
       "    </tr>\n",
       "  </thead>\n",
       "  <tbody>\n",
       "    <tr>\n",
       "      <td>1</td>\n",
       "      <td>315</td>\n",
       "      <td>81</td>\n",
       "      <td>7</td>\n",
       "      <td>24</td>\n",
       "      <td>38</td>\n",
       "      <td>39</td>\n",
       "      <td>14</td>\n",
       "      <td>3449</td>\n",
       "      <td>835</td>\n",
       "      <td>69</td>\n",
       "      <td>321</td>\n",
       "      <td>414</td>\n",
       "      <td>375</td>\n",
       "      <td>632</td>\n",
       "      <td>43</td>\n",
       "      <td>10</td>\n",
       "      <td>475.0</td>\n",
       "      <td>1</td>\n",
       "      <td>1</td>\n",
       "      <td>1</td>\n",
       "    </tr>\n",
       "    <tr>\n",
       "      <td>2</td>\n",
       "      <td>479</td>\n",
       "      <td>130</td>\n",
       "      <td>18</td>\n",
       "      <td>66</td>\n",
       "      <td>72</td>\n",
       "      <td>76</td>\n",
       "      <td>3</td>\n",
       "      <td>1624</td>\n",
       "      <td>457</td>\n",
       "      <td>63</td>\n",
       "      <td>224</td>\n",
       "      <td>266</td>\n",
       "      <td>263</td>\n",
       "      <td>880</td>\n",
       "      <td>82</td>\n",
       "      <td>14</td>\n",
       "      <td>480.0</td>\n",
       "      <td>0</td>\n",
       "      <td>1</td>\n",
       "      <td>0</td>\n",
       "    </tr>\n",
       "    <tr>\n",
       "      <td>3</td>\n",
       "      <td>496</td>\n",
       "      <td>141</td>\n",
       "      <td>20</td>\n",
       "      <td>65</td>\n",
       "      <td>78</td>\n",
       "      <td>37</td>\n",
       "      <td>11</td>\n",
       "      <td>5628</td>\n",
       "      <td>1575</td>\n",
       "      <td>225</td>\n",
       "      <td>828</td>\n",
       "      <td>838</td>\n",
       "      <td>354</td>\n",
       "      <td>200</td>\n",
       "      <td>11</td>\n",
       "      <td>3</td>\n",
       "      <td>500.0</td>\n",
       "      <td>1</td>\n",
       "      <td>0</td>\n",
       "      <td>1</td>\n",
       "    </tr>\n",
       "    <tr>\n",
       "      <td>4</td>\n",
       "      <td>321</td>\n",
       "      <td>87</td>\n",
       "      <td>10</td>\n",
       "      <td>39</td>\n",
       "      <td>42</td>\n",
       "      <td>30</td>\n",
       "      <td>2</td>\n",
       "      <td>396</td>\n",
       "      <td>101</td>\n",
       "      <td>12</td>\n",
       "      <td>48</td>\n",
       "      <td>46</td>\n",
       "      <td>33</td>\n",
       "      <td>805</td>\n",
       "      <td>40</td>\n",
       "      <td>4</td>\n",
       "      <td>91.5</td>\n",
       "      <td>1</td>\n",
       "      <td>0</td>\n",
       "      <td>1</td>\n",
       "    </tr>\n",
       "    <tr>\n",
       "      <td>5</td>\n",
       "      <td>594</td>\n",
       "      <td>169</td>\n",
       "      <td>4</td>\n",
       "      <td>74</td>\n",
       "      <td>51</td>\n",
       "      <td>35</td>\n",
       "      <td>11</td>\n",
       "      <td>4408</td>\n",
       "      <td>1133</td>\n",
       "      <td>19</td>\n",
       "      <td>501</td>\n",
       "      <td>336</td>\n",
       "      <td>194</td>\n",
       "      <td>282</td>\n",
       "      <td>421</td>\n",
       "      <td>25</td>\n",
       "      <td>750.0</td>\n",
       "      <td>0</td>\n",
       "      <td>1</td>\n",
       "      <td>0</td>\n",
       "    </tr>\n",
       "  </tbody>\n",
       "</table>\n",
       "</div>"
      ],
      "text/plain": [
       "   AtBat  Hits  HmRun  Runs  RBI  Walks  Years  CAtBat  CHits  CHmRun  CRuns  \\\n",
       "1    315    81      7    24   38     39     14    3449    835      69    321   \n",
       "2    479   130     18    66   72     76      3    1624    457      63    224   \n",
       "3    496   141     20    65   78     37     11    5628   1575     225    828   \n",
       "4    321    87     10    39   42     30      2     396    101      12     48   \n",
       "5    594   169      4    74   51     35     11    4408   1133      19    501   \n",
       "\n",
       "   CRBI  CWalks  PutOuts  Assists  Errors  Salary  League_N  Division_W  \\\n",
       "1   414     375      632       43      10   475.0         1           1   \n",
       "2   266     263      880       82      14   480.0         0           1   \n",
       "3   838     354      200       11       3   500.0         1           0   \n",
       "4    46      33      805       40       4    91.5         1           0   \n",
       "5   336     194      282      421      25   750.0         0           1   \n",
       "\n",
       "   NewLeague_N  \n",
       "1            1  \n",
       "2            0  \n",
       "3            1  \n",
       "4            1  \n",
       "5            0  "
      ]
     },
     "execution_count": 71,
     "metadata": {},
     "output_type": "execute_result"
    }
   ],
   "source": [
    "df.head()"
   ]
  },
  {
   "cell_type": "code",
   "execution_count": 72,
   "metadata": {},
   "outputs": [],
   "source": [
    "y = df[\"Salary\"]\n",
    "X = df.drop('Salary', axis=1)"
   ]
  },
  {
   "cell_type": "code",
   "execution_count": 73,
   "metadata": {},
   "outputs": [],
   "source": [
    "cols = X.columns"
   ]
  },
  {
   "cell_type": "code",
   "execution_count": 74,
   "metadata": {},
   "outputs": [],
   "source": [
    "from sklearn.preprocessing import StandardScaler"
   ]
  },
  {
   "cell_type": "code",
   "execution_count": 75,
   "metadata": {},
   "outputs": [],
   "source": [
    "scaler = StandardScaler()"
   ]
  },
  {
   "cell_type": "code",
   "execution_count": 76,
   "metadata": {},
   "outputs": [],
   "source": [
    "X = scaler.fit_transform(X)"
   ]
  },
  {
   "cell_type": "code",
   "execution_count": 77,
   "metadata": {},
   "outputs": [],
   "source": [
    "X = pd.DataFrame(X, columns = cols)"
   ]
  },
  {
   "cell_type": "code",
   "execution_count": 78,
   "metadata": {},
   "outputs": [
    {
     "data": {
      "text/html": [
       "<div>\n",
       "<style scoped>\n",
       "    .dataframe tbody tr th:only-of-type {\n",
       "        vertical-align: middle;\n",
       "    }\n",
       "\n",
       "    .dataframe tbody tr th {\n",
       "        vertical-align: top;\n",
       "    }\n",
       "\n",
       "    .dataframe thead th {\n",
       "        text-align: right;\n",
       "    }\n",
       "</style>\n",
       "<table border=\"1\" class=\"dataframe\">\n",
       "  <thead>\n",
       "    <tr style=\"text-align: right;\">\n",
       "      <th></th>\n",
       "      <th>AtBat</th>\n",
       "      <th>Hits</th>\n",
       "      <th>HmRun</th>\n",
       "      <th>Runs</th>\n",
       "      <th>RBI</th>\n",
       "      <th>Walks</th>\n",
       "      <th>Years</th>\n",
       "      <th>CAtBat</th>\n",
       "      <th>CHits</th>\n",
       "      <th>CHmRun</th>\n",
       "      <th>CRuns</th>\n",
       "      <th>CRBI</th>\n",
       "      <th>CWalks</th>\n",
       "      <th>PutOuts</th>\n",
       "      <th>Assists</th>\n",
       "      <th>Errors</th>\n",
       "      <th>League_N</th>\n",
       "      <th>Division_W</th>\n",
       "      <th>NewLeague_N</th>\n",
       "    </tr>\n",
       "  </thead>\n",
       "  <tbody>\n",
       "    <tr>\n",
       "      <td>0</td>\n",
       "      <td>-0.602900</td>\n",
       "      <td>-0.595675</td>\n",
       "      <td>-0.528551</td>\n",
       "      <td>-1.206112</td>\n",
       "      <td>-0.522063</td>\n",
       "      <td>-0.097527</td>\n",
       "      <td>1.397893</td>\n",
       "      <td>0.346791</td>\n",
       "      <td>0.174373</td>\n",
       "      <td>-0.002920</td>\n",
       "      <td>-0.121671</td>\n",
       "      <td>0.258966</td>\n",
       "      <td>0.435334</td>\n",
       "      <td>1.221499</td>\n",
       "      <td>-0.523191</td>\n",
       "      <td>0.213352</td>\n",
       "      <td>1.058758</td>\n",
       "      <td>0.981166</td>\n",
       "      <td>1.075052</td>\n",
       "    </tr>\n",
       "    <tr>\n",
       "      <td>1</td>\n",
       "      <td>0.512542</td>\n",
       "      <td>0.492260</td>\n",
       "      <td>0.729966</td>\n",
       "      <td>0.441515</td>\n",
       "      <td>0.794060</td>\n",
       "      <td>1.609373</td>\n",
       "      <td>-0.901200</td>\n",
       "      <td>-0.452865</td>\n",
       "      <td>-0.409892</td>\n",
       "      <td>-0.076054</td>\n",
       "      <td>-0.415105</td>\n",
       "      <td>-0.199590</td>\n",
       "      <td>0.010373</td>\n",
       "      <td>2.109109</td>\n",
       "      <td>-0.253863</td>\n",
       "      <td>0.819964</td>\n",
       "      <td>-0.944503</td>\n",
       "      <td>0.981166</td>\n",
       "      <td>-0.930187</td>\n",
       "    </tr>\n",
       "    <tr>\n",
       "      <td>2</td>\n",
       "      <td>0.628167</td>\n",
       "      <td>0.736490</td>\n",
       "      <td>0.958788</td>\n",
       "      <td>0.402286</td>\n",
       "      <td>1.026317</td>\n",
       "      <td>-0.189792</td>\n",
       "      <td>0.770868</td>\n",
       "      <td>1.301558</td>\n",
       "      <td>1.318174</td>\n",
       "      <td>1.898565</td>\n",
       "      <td>1.412051</td>\n",
       "      <td>1.572666</td>\n",
       "      <td>0.355654</td>\n",
       "      <td>-0.324661</td>\n",
       "      <td>-0.744179</td>\n",
       "      <td>-0.848219</td>\n",
       "      <td>1.058758</td>\n",
       "      <td>-1.019196</td>\n",
       "      <td>1.075052</td>\n",
       "    </tr>\n",
       "    <tr>\n",
       "      <td>3</td>\n",
       "      <td>-0.562092</td>\n",
       "      <td>-0.462459</td>\n",
       "      <td>-0.185319</td>\n",
       "      <td>-0.617673</td>\n",
       "      <td>-0.367225</td>\n",
       "      <td>-0.512719</td>\n",
       "      <td>-1.110209</td>\n",
       "      <td>-0.990935</td>\n",
       "      <td>-0.960153</td>\n",
       "      <td>-0.697693</td>\n",
       "      <td>-0.947521</td>\n",
       "      <td>-0.881228</td>\n",
       "      <td>-0.862315</td>\n",
       "      <td>1.840678</td>\n",
       "      <td>-0.543909</td>\n",
       "      <td>-0.696566</td>\n",
       "      <td>1.058758</td>\n",
       "      <td>-1.019196</td>\n",
       "      <td>1.075052</td>\n",
       "    </tr>\n",
       "    <tr>\n",
       "      <td>4</td>\n",
       "      <td>1.294712</td>\n",
       "      <td>1.358167</td>\n",
       "      <td>-0.871783</td>\n",
       "      <td>0.755349</td>\n",
       "      <td>-0.018840</td>\n",
       "      <td>-0.282057</td>\n",
       "      <td>0.770868</td>\n",
       "      <td>0.766993</td>\n",
       "      <td>0.634985</td>\n",
       "      <td>-0.612370</td>\n",
       "      <td>0.422846</td>\n",
       "      <td>0.017294</td>\n",
       "      <td>-0.251434</td>\n",
       "      <td>-0.031177</td>\n",
       "      <td>2.087225</td>\n",
       "      <td>2.488147</td>\n",
       "      <td>-0.944503</td>\n",
       "      <td>0.981166</td>\n",
       "      <td>-0.930187</td>\n",
       "    </tr>\n",
       "  </tbody>\n",
       "</table>\n",
       "</div>"
      ],
      "text/plain": [
       "      AtBat      Hits     HmRun      Runs       RBI     Walks     Years  \\\n",
       "0 -0.602900 -0.595675 -0.528551 -1.206112 -0.522063 -0.097527  1.397893   \n",
       "1  0.512542  0.492260  0.729966  0.441515  0.794060  1.609373 -0.901200   \n",
       "2  0.628167  0.736490  0.958788  0.402286  1.026317 -0.189792  0.770868   \n",
       "3 -0.562092 -0.462459 -0.185319 -0.617673 -0.367225 -0.512719 -1.110209   \n",
       "4  1.294712  1.358167 -0.871783  0.755349 -0.018840 -0.282057  0.770868   \n",
       "\n",
       "     CAtBat     CHits    CHmRun     CRuns      CRBI    CWalks   PutOuts  \\\n",
       "0  0.346791  0.174373 -0.002920 -0.121671  0.258966  0.435334  1.221499   \n",
       "1 -0.452865 -0.409892 -0.076054 -0.415105 -0.199590  0.010373  2.109109   \n",
       "2  1.301558  1.318174  1.898565  1.412051  1.572666  0.355654 -0.324661   \n",
       "3 -0.990935 -0.960153 -0.697693 -0.947521 -0.881228 -0.862315  1.840678   \n",
       "4  0.766993  0.634985 -0.612370  0.422846  0.017294 -0.251434 -0.031177   \n",
       "\n",
       "    Assists    Errors  League_N  Division_W  NewLeague_N  \n",
       "0 -0.523191  0.213352  1.058758    0.981166     1.075052  \n",
       "1 -0.253863  0.819964 -0.944503    0.981166    -0.930187  \n",
       "2 -0.744179 -0.848219  1.058758   -1.019196     1.075052  \n",
       "3 -0.543909 -0.696566  1.058758   -1.019196     1.075052  \n",
       "4  2.087225  2.488147 -0.944503    0.981166    -0.930187  "
      ]
     },
     "execution_count": 78,
     "metadata": {},
     "output_type": "execute_result"
    }
   ],
   "source": [
    "X.head()"
   ]
  },
  {
   "cell_type": "code",
   "execution_count": 79,
   "metadata": {},
   "outputs": [],
   "source": [
    "X_train, X_test, y_train, y_test = train_test_split(X, \n",
    "                                                    y, \n",
    "                                                    test_size=0.70, \n",
    "                                                    random_state=46)"
   ]
  },
  {
   "cell_type": "code",
   "execution_count": 80,
   "metadata": {},
   "outputs": [],
   "source": [
    "ridge_model = Ridge().fit(X_train, y_train)"
   ]
  },
  {
   "cell_type": "code",
   "execution_count": 81,
   "metadata": {},
   "outputs": [
    {
     "data": {
      "text/plain": [
       "array([-163.9762342 ,  262.00780092,   52.73583333,   -7.18998947,\n",
       "         28.49738248,   -0.49552546,   -9.1723327 ,  -29.58704661,\n",
       "        208.40617803,  -47.9328481 ,  139.52449837,  -23.4952908 ,\n",
       "        -92.37751676,  103.40305987,  -27.37832104,   -3.761329  ,\n",
       "         33.54191171,  -11.75579327,  -50.47133618])"
      ]
     },
     "execution_count": 81,
     "metadata": {},
     "output_type": "execute_result"
    }
   ],
   "source": [
    "ridge_model.coef_"
   ]
  },
  {
   "cell_type": "code",
   "execution_count": 82,
   "metadata": {},
   "outputs": [
    {
     "data": {
      "text/plain": [
       "501.98957838874776"
      ]
     },
     "execution_count": 82,
     "metadata": {},
     "output_type": "execute_result"
    }
   ],
   "source": [
    "ridge_model.intercept_"
   ]
  },
  {
   "cell_type": "markdown",
   "metadata": {},
   "source": [
    "# Tahmin"
   ]
  },
  {
   "cell_type": "code",
   "execution_count": 83,
   "metadata": {},
   "outputs": [
    {
     "data": {
      "text/plain": [
       "384.5818032838613"
      ]
     },
     "execution_count": 83,
     "metadata": {},
     "output_type": "execute_result"
    }
   ],
   "source": [
    "y_pred = ridge_model.predict(X_test)\n",
    "np.sqrt(mean_squared_error(y_test, y_pred))"
   ]
  },
  {
   "cell_type": "code",
   "execution_count": 84,
   "metadata": {},
   "outputs": [
    {
     "data": {
      "text/plain": [
       "Ridge(alpha=1.0, copy_X=True, fit_intercept=True, max_iter=None,\n",
       "      normalize=False, random_state=None, solver='auto', tol=0.001)"
      ]
     },
     "execution_count": 84,
     "metadata": {},
     "output_type": "execute_result"
    }
   ],
   "source": [
    "ridge_model"
   ]
  },
  {
   "cell_type": "code",
   "execution_count": 85,
   "metadata": {},
   "outputs": [],
   "source": [
    "alphas = 10**np.linspace(10,-2,100)*0.5"
   ]
  },
  {
   "cell_type": "code",
   "execution_count": 86,
   "metadata": {
    "collapsed": true,
    "jupyter": {
     "outputs_hidden": true
    }
   },
   "outputs": [
    {
     "name": "stdout",
     "output_type": "stream",
     "text": [
      "493.3158389071994\n",
      "493.31583349540523\n",
      "493.3158263413325\n",
      "493.31581688407056\n",
      "493.31580438212904\n",
      "493.3157878553018\n",
      "493.31576600781517\n",
      "493.31573712673503\n",
      "493.3156989476665\n",
      "493.31564847721927\n",
      "493.3155817583187\n",
      "493.315493559964\n",
      "493.3153769671141\n",
      "493.31522283855\n",
      "493.3150190902217\n",
      "493.31474974790575\n",
      "493.3143936949334\n",
      "493.3139230168609\n",
      "493.3133008133959\n",
      "493.31247830620197\n",
      "493.3113910161204\n",
      "493.30995371062113\n",
      "493.3080537262677\n",
      "493.30554214427065\n",
      "493.3022221300885\n",
      "493.2978335278026\n",
      "493.2920325100484\n",
      "493.28436470308196\n",
      "493.2742297062648\n",
      "493.26083427022456\n",
      "493.2431305431131\n",
      "493.2197346835945\n",
      "493.1888197043532\n",
      "493.1479745714692\n",
      "493.0940192559594\n",
      "493.02276253037815\n",
      "492.928685768308\n",
      "492.8045318530198\n",
      "492.6407737065096\n",
      "492.42493239433696\n",
      "492.1407112977845\n",
      "491.76691252217597\n",
      "491.2761082413032\n",
      "490.6330594070939\n",
      "489.79291740431745\n",
      "488.69932613976664\n",
      "487.28268345144437\n",
      "485.4590447555203\n",
      "483.1304733395343\n",
      "480.1880414041978\n",
      "476.5190623274852\n",
      "472.0202361360487\n",
      "466.61776625184336\n",
      "460.2935845464454\n",
      "453.1132898281332\n",
      "445.2469680062829\n",
      "436.9711849788791\n",
      "428.64287711227485\n",
      "420.64580305361716\n",
      "413.3243281449674\n",
      "406.9283817787193\n",
      "401.58917583691016\n",
      "397.3291499894166\n",
      "394.0930006363472\n",
      "391.7806947172513\n",
      "390.269583711383\n",
      "389.4238010798042\n",
      "389.0967356712519\n",
      "389.1334183917072\n",
      "389.3765091543149\n",
      "389.67610429588785\n",
      "389.9016357493917\n",
      "389.9534065970767\n",
      "389.77126319822474\n",
      "389.33849961918537\n",
      "388.68016024144407\n",
      "387.85593325195754\n",
      "386.9485110912432\n",
      "386.0489241188825\n",
      "385.24135007877004\n",
      "384.5909553365961\n",
      "384.138268815335\n",
      "383.9015681930158\n",
      "383.8855196202206\n",
      "384.0918730232824\n",
      "384.5278261396347\n",
      "385.2093891136913\n",
      "386.15919779996887\n",
      "387.3995981039475\n",
      "388.9425165769936\n",
      "390.7784183026835\n",
      "392.8678045878418\n",
      "395.1392556478584\n",
      "397.4965108571477\n",
      "399.83337515961\n",
      "402.05145559038397\n",
      "404.07458105660953\n",
      "405.8559347128174\n",
      "407.37758310116294\n",
      "408.6448100332144\n"
     ]
    }
   ],
   "source": [
    "ridge_model = Ridge()\n",
    "coefs = []\n",
    "\n",
    "for i in alphas:\n",
    "    ridge_model.set_params(alpha = i)\n",
    "    ridge_model.fit(X_train, y_train)\n",
    "    y_pred = ridge_model.predict(X_test)\n",
    "    print(np.sqrt(mean_squared_error(y_test, y_pred)))"
   ]
  },
  {
   "cell_type": "code",
   "execution_count": 87,
   "metadata": {},
   "outputs": [],
   "source": [
    "ridge_model = Ridge()\n",
    "coefs = []\n",
    "\n",
    "for i in alphas:\n",
    "    ridge_model.set_params(alpha = i)\n",
    "    ridge_model.fit(X_train, y_train)\n",
    "    coefs.append(ridge_model.coef_)\n"
   ]
  },
  {
   "cell_type": "code",
   "execution_count": 88,
   "metadata": {
    "collapsed": true,
    "jupyter": {
     "outputs_hidden": true
    }
   },
   "outputs": [
    {
     "data": {
      "text/plain": [
       "[array([ 3.06694878e-06,  3.50808197e-06,  2.97524344e-06,  3.13467635e-06,\n",
       "         3.59521531e-06,  1.95011022e-06,  1.61494446e-06,  2.17722403e-06,\n",
       "         2.28936047e-06,  2.16529070e-06,  2.21987060e-06,  2.32628441e-06,\n",
       "         1.69019363e-06,  2.07986352e-06,  1.39362359e-07,  3.83259400e-07,\n",
       "        -6.03952344e-07, -1.02869593e-06, -7.39090206e-07]),\n",
       " array([ 4.05432566e-06,  4.63747777e-06,  3.93309661e-06,  4.14385753e-06,\n",
       "         4.75266291e-06,  2.57793083e-06,  2.13486145e-06,  2.87816193e-06,\n",
       "         3.02639970e-06,  2.86238676e-06,  2.93453818e-06,  3.07521097e-06,\n",
       "         2.23433641e-06,  2.74945714e-06,  1.84228822e-07,  5.06646359e-07,\n",
       "        -7.98389418e-07, -1.35987546e-06, -9.77033723e-07]),\n",
       " array([ 5.35957969e-06,  6.13047247e-06,  5.19932204e-06,  5.47793555e-06,\n",
       "         6.28274042e-06,  3.40787264e-06,  2.82216105e-06,  3.80476050e-06,\n",
       "         4.00072211e-06,  3.78390662e-06,  3.87928658e-06,  4.06524773e-06,\n",
       "         2.95366106e-06,  3.63462048e-06,  2.43539636e-07,  6.69756649e-07,\n",
       "        -1.05542376e-06, -1.79767529e-06, -1.29158102e-06]),\n",
       " array([ 7.08504853e-06,  8.10412342e-06,  6.87319739e-06,  7.24150802e-06,\n",
       "         8.30541265e-06,  4.50500673e-06,  3.73073056e-06,  5.02966915e-06,\n",
       "         5.28871887e-06,  5.00210150e-06,  5.12818823e-06,  5.37401790e-06,\n",
       "         3.90456578e-06,  4.80475428e-06,  3.21945023e-07,  8.85378836e-07,\n",
       "        -1.39520798e-06, -2.37642087e-06, -1.70739400e-06]),\n",
       " array([ 9.36601649e-06,  1.07131735e-05,  9.08596181e-06,  9.57284673e-06,\n",
       "         1.09792660e-05,  5.95535317e-06,  4.93180579e-06,  6.64892605e-06,\n",
       "         6.99137455e-06,  6.61248314e-06,  6.77916246e-06,  7.10413478e-06,\n",
       "         5.16160562e-06,  6.35160223e-06,  4.25592297e-07,  1.17041865e-06,\n",
       "        -1.84438264e-06, -3.14148842e-06, -2.25707421e-06]),\n",
       " array([ 1.23813214e-05,  1.41621837e-05,  1.20111057e-05,  1.26547388e-05,\n",
       "         1.45139422e-05,  7.87262535e-06,  6.51955621e-06,  8.78948796e-06,\n",
       "         9.24218474e-06,  8.74131242e-06,  8.96165279e-06,  9.39124701e-06,\n",
       "         6.82333790e-06,  8.39644407e-06,  5.62607838e-07,  1.54722446e-06,\n",
       "        -2.43816496e-06, -4.15286261e-06, -2.98371897e-06]),\n",
       " array([ 1.63673761e-05,  1.87215713e-05,  1.58779729e-05,  1.67288178e-05,\n",
       "         1.91865751e-05,  1.04071456e-05,  8.61846824e-06,  1.16191841e-05,\n",
       "         1.22176226e-05,  1.15554986e-05,  1.18467758e-05,  1.24146740e-05,\n",
       "         9.02004946e-06,  1.10996044e-05,  7.43734219e-07,  2.04533949e-06,\n",
       "        -3.22310997e-06, -5.48983960e-06, -3.94430034e-06]),\n",
       " array([ 2.16367042e-05,  2.47488118e-05,  2.09897423e-05,  2.21145089e-05,\n",
       "         2.53635191e-05,  1.37576308e-05,  1.13931054e-05,  1.53598746e-05,\n",
       "         1.61509751e-05,  1.52756856e-05,  1.56607373e-05,  1.64114651e-05,\n",
       "         1.19239716e-05,  1.46730230e-05,  9.83172462e-07,  2.70381808e-06,\n",
       "        -4.26076062e-06, -7.25724424e-06, -5.21413199e-06]),\n",
       " array([ 2.86024431e-05,  3.27164662e-05,  2.77471981e-05,  2.92340728e-05,\n",
       "         3.35290725e-05,  1.81867726e-05,  1.50610106e-05,  2.03048450e-05,\n",
       "         2.13506335e-05,  2.01935513e-05,  2.07025677e-05,  2.16949853e-05,\n",
       "         1.57627836e-05,  1.93968714e-05,  1.29969543e-06,  3.57428778e-06,\n",
       "        -5.63247292e-06, -9.59364869e-06, -6.89277399e-06]),\n",
       " array([ 3.78107352e-05,  4.32492317e-05,  3.66801525e-05,  3.86457125e-05,\n",
       "         4.43234483e-05,  2.40418332e-05,  1.99097622e-05,  2.68418010e-05,\n",
       "         2.82242720e-05,  2.66946758e-05,  2.73675667e-05,  2.86794838e-05,\n",
       "         2.08374633e-05,  2.56415198e-05,  1.71811963e-06,  4.72499704e-06,\n",
       "        -7.44579446e-06, -1.26822371e-05, -9.11183870e-06]),\n",
       " array([ 4.99835469e-05,  5.71729193e-05,  4.84889847e-05,  5.10873378e-05,\n",
       "         5.85929687e-05,  3.17818715e-05,  2.63195210e-05,  3.54832653e-05,\n",
       "         3.73108108e-05,  3.52887718e-05,  3.61782960e-05,  3.79125723e-05,\n",
       "         2.75458846e-05,  3.38965756e-05,  2.27125087e-06,  6.24616617e-06,\n",
       "        -9.84289637e-06, -1.67651677e-05, -1.20453095e-05]),\n",
       " array([ 6.60752727e-05,  7.55792002e-05,  6.40995524e-05,  6.75344195e-05,\n",
       "         7.74564188e-05,  4.20137338e-05,  3.47928352e-05,  4.69067606e-05,\n",
       "         4.93226686e-05,  4.66496471e-05,  4.78255493e-05,  5.01181588e-05,\n",
       "         3.64140110e-05,  4.48092702e-05,  3.00245620e-06,  8.25706087e-06,\n",
       "        -1.30117197e-05, -2.21625592e-05, -1.59231816e-05]),\n",
       " array([ 8.73475613e-05,  9.99111947e-05,  8.47357804e-05,  8.92764677e-05,\n",
       "         1.02392762e-04,  5.55396312e-05,  4.59940410e-05,  6.20079282e-05,\n",
       "         6.52016172e-05,  6.16680314e-05,  6.32225112e-05,  6.62532030e-05,\n",
       "         4.81371317e-05,  5.92352043e-05,  3.96906379e-06,  1.09153429e-05,\n",
       "        -1.72007103e-05, -2.92975887e-05, -2.10494936e-05]),\n",
       " array([ 1.15468230e-04,  1.32076614e-04,  1.12015618e-04,  1.18018131e-04,\n",
       "         1.35357090e-04,  7.34200324e-05,  6.08013464e-05,  8.19707467e-05,\n",
       "         8.61926169e-05,  8.15214091e-05,  8.35763509e-05,  8.75827419e-05,\n",
       "         6.36343718e-05,  7.83054298e-05,  5.24685720e-06,  1.44294311e-05,\n",
       "        -2.27382963e-05, -3.87296701e-05, -2.78261651e-05]),\n",
       " array([ 1.52642019e-04,  1.74597328e-04,  1.48077885e-04,  1.56012839e-04,\n",
       "         1.78933907e-04,  9.70568021e-05,  8.03756811e-05,  1.08360354e-04,\n",
       "         1.13941421e-04,  1.07766332e-04,  1.10482863e-04,  1.15779067e-04,\n",
       "         8.41207487e-05,  1.03515128e-04,  6.93601626e-06,  1.90748416e-05,\n",
       "        -3.00586362e-05, -5.11983134e-05, -3.67845060e-05]),\n",
       " array([ 2.01783443e-04,  2.30807071e-04,  1.95749953e-04,  2.06239469e-04,\n",
       "         2.36539744e-04,  1.28303101e-04,  1.06251709e-04,  1.43245751e-04,\n",
       "         1.50623596e-04,  1.42460446e-04,  1.46051574e-04,  1.53052828e-04,\n",
       "         1.11202424e-04,  1.36840833e-04,  9.16897005e-06,  2.52157880e-05,\n",
       "        -3.97356550e-05, -6.76811027e-05, -4.86268705e-05]),\n",
       " array([ 2.66745272e-04,  3.05112805e-04,  2.58769400e-04,  2.72635878e-04,\n",
       "         3.12691010e-04,  1.69608661e-04,  1.40458138e-04,  1.89361998e-04,\n",
       "         1.99115083e-04,  1.88323798e-04,  1.93071116e-04,  2.02326334e-04,\n",
       "         1.47002615e-04,  1.80895399e-04,  1.21207772e-05,  3.33337353e-05,\n",
       "        -5.25280349e-05, -8.94703392e-05, -6.42817186e-05]),\n",
       " array([ 3.52620565e-04,  4.03340192e-04,  3.42077013e-04,  3.60407601e-04,\n",
       "         4.13358043e-04,  2.24211816e-04,  1.85676749e-04,  2.50324623e-04,\n",
       "         2.63217640e-04,  2.48952054e-04,  2.55227831e-04,  2.67462636e-04,\n",
       "         1.94328028e-04,  2.39132846e-04,  1.60228465e-05,  4.40651448e-05,\n",
       "        -6.94386865e-05, -1.18274356e-04, -8.49763999e-05]),\n",
       " array([ 4.66141910e-04,  5.33190286e-04,  4.52204098e-04,  4.76435919e-04,\n",
       "         5.46433138e-04,  2.96393335e-04,  2.45452610e-04,  3.30913032e-04,\n",
       "         3.47956863e-04,  3.29098350e-04,  3.37394736e-04,  3.53568344e-04,\n",
       "         2.56888857e-04,  3.16119155e-04,  2.11810719e-05,  5.82513681e-05,\n",
       "        -9.17933604e-05, -1.56351447e-04, -1.12333364e-04]),\n",
       " array([ 6.16209159e-04,  7.04843189e-04,  5.97784442e-04,  6.29817241e-04,\n",
       "         7.22349186e-04,  3.91811942e-04,  3.24471939e-04,  4.37445129e-04,\n",
       "         4.59976109e-04,  4.35045830e-04,  4.46013475e-04,  4.67393886e-04,\n",
       "         3.39589574e-04,  4.17890230e-04,  2.79998018e-05,  7.70046007e-05,\n",
       "        -1.21344552e-04, -2.06686903e-04, -1.48497336e-04]),\n",
       " array([ 8.14586977e-04,  9.31755990e-04,  7.90231023e-04,  8.32576076e-04,\n",
       "         9.54897407e-04,  5.17947778e-04,  4.28929373e-04,  5.78272478e-04,\n",
       "         6.08057175e-04,  5.75100055e-04,  5.89599181e-04,  6.17862567e-04,\n",
       "         4.48913279e-04,  5.52425087e-04,  3.70135156e-05,  1.01795061e-04,\n",
       "        -1.60408841e-04, -2.73227032e-04, -1.96303411e-04]),\n",
       " array([ 1.07682684e-03,  1.23171745e-03,  1.04463047e-03,  1.10060740e-03,\n",
       "         1.26230821e-03,  6.84688529e-04,  5.67013384e-04,  7.64434778e-04,\n",
       "         8.03808511e-04,  7.60239814e-04,  7.79407756e-04,  8.16769837e-04,\n",
       "         5.93429680e-04,  7.30271352e-04,  4.89286853e-05,  1.34566226e-04,\n",
       "        -2.12048397e-04, -3.61188503e-04, -2.59499234e-04]),\n",
       " array([ 1.42348563e-03,  1.62824203e-03,  1.38092526e-03,  1.45492217e-03,\n",
       "         1.66867974e-03,  9.05104045e-04,  7.49547834e-04,  1.01052485e-03,\n",
       "         1.06257481e-03,  1.00497724e-03,  1.03031780e-03,  1.07970748e-03,\n",
       "         7.84466432e-04,  9.65372076e-04,  6.46790880e-05,  1.77887139e-04,\n",
       "        -2.80310870e-04, -4.77467228e-04, -3.43038657e-04]),\n",
       " array([ 1.88173613e-03,  2.15241225e-03,  1.82547615e-03,  1.92329347e-03,\n",
       "         2.20586596e-03,  1.19647000e-03,  9.90839793e-04,  1.33583176e-03,\n",
       "         1.40463911e-03,  1.32849446e-03,  1.36199609e-03,  1.42728497e-03,\n",
       "         1.03699630e-03,  1.27615865e-03,  8.54988819e-05,  2.35153721e-04,\n",
       "        -3.70546381e-04, -6.31178830e-04, -4.53469825e-04]),\n",
       " array([ 0.0024875 ,  0.00284531,  0.00241313,  0.00254243,  0.00291597,\n",
       "         0.00158162,  0.0013098 ,  0.00176585,  0.00185681,  0.00175615,\n",
       "         0.00180044,  0.00188674,  0.00137081,  0.001687  ,  0.00011302,\n",
       "         0.00031085, -0.00048983, -0.00083437, -0.00059945]),\n",
       " array([ 0.00328824,  0.00376125,  0.00318993,  0.00336086,  0.00385465,\n",
       "         0.00209074,  0.00173142,  0.00233428,  0.00245453,  0.00232144,\n",
       "         0.00238   ,  0.00249409,  0.00181206,  0.00223009,  0.0001494 ,\n",
       "         0.00041092, -0.0006475 , -0.00110298, -0.00079241]),\n",
       " array([ 0.00434671,  0.004972  ,  0.00421677,  0.00444271,  0.00509546,\n",
       "         0.0027637 ,  0.00228874,  0.00308566,  0.00324462,  0.00306867,\n",
       "         0.0031461 ,  0.00329691,  0.00239532,  0.00294801,  0.00019748,\n",
       "         0.0005432 , -0.00085591, -0.00145805, -0.00104749]),\n",
       " array([ 0.00574583,  0.00657244,  0.00557408,  0.00587274,  0.00673561,\n",
       "         0.00365322,  0.00302541,  0.00407885,  0.00428899,  0.00405635,\n",
       "         0.00415874,  0.00435808,  0.00316627,  0.00389704,  0.00026102,\n",
       "         0.00071806, -0.00113139, -0.00192741, -0.00138465]),\n",
       " array([ 0.00759519,  0.00868792,  0.00736818,  0.00776296,  0.00890359,\n",
       "         0.00482895,  0.00399911,  0.00539164,  0.00566943,  0.00536183,\n",
       "         0.00549722,  0.00576073,  0.00418526,  0.00515155,  0.00034501,\n",
       "         0.00094919, -0.00149549, -0.00254784, -0.00183031]),\n",
       " array([ 0.01003959,  0.01148413,  0.00973957,  0.01026138,  0.01176915,\n",
       "         0.00638289,  0.00528607,  0.00712678,  0.00749402,  0.00708728,\n",
       "         0.00726634,  0.00761464,  0.00553203,  0.00680986,  0.00045599,\n",
       "         0.0012547 , -0.00197673, -0.00336796, -0.00241936]),\n",
       " array([ 0.01327035,  0.01517995,  0.01287386,  0.01356354,  0.01555661,\n",
       "         0.0084366 ,  0.00698697,  0.00942006,  0.00990555,  0.00936765,\n",
       "         0.00960451,  0.01006487,  0.00731192,  0.00900192,  0.00060264,\n",
       "         0.00165851, -0.00261271, -0.00445201, -0.0031979 ]),\n",
       " array([ 0.01754018,  0.02006458,  0.01701624,  0.01792777,  0.02056228,\n",
       "         0.01115058,  0.00923476,  0.01245081,  0.01309262,  0.0123812 ,\n",
       "         0.01269457,  0.01330301,  0.009664  ,  0.01189945,  0.00079639,\n",
       "         0.00219222, -0.00345315, -0.00588488, -0.00422682]),\n",
       " array([ 0.02318282,  0.02651996,  0.02249056,  0.0236952 ,  0.0271775 ,\n",
       "         0.01473673,  0.01220503,  0.0164558 ,  0.01730429,  0.01636323,\n",
       "         0.01677792,  0.01758204,  0.01277188,  0.0157294 ,  0.00105231,\n",
       "         0.00289759, -0.00456363, -0.00777875, -0.00558652]),\n",
       " array([ 0.03063887,  0.03505044,  0.02972436,  0.03131623,  0.03591898,\n",
       "         0.01947465,  0.01612948,  0.0217476 ,  0.02286936,  0.02162425,\n",
       "         0.02217322,  0.02323585,  0.0168778 ,  0.02079164,  0.00139028,\n",
       "         0.00382975, -0.00603071, -0.01028179, -0.00738318]),\n",
       " array([ 0.04048977,  0.0463217 ,  0.03928192,  0.04138524,  0.04746868,\n",
       "         0.02573309,  0.02131373,  0.02873858,  0.03022164,  0.02857381,\n",
       "         0.02930085,  0.03070496,  0.0223012 ,  0.02748234,  0.00183645,\n",
       "         0.00506149, -0.00796849, -0.01358972, -0.00975684]),\n",
       " array([ 0.05350237,  0.06121201,  0.05190756,  0.05468619,  0.06272618,\n",
       "         0.033998  ,  0.02816068,  0.03797243,  0.03993324,  0.03775164,\n",
       "         0.03871509,  0.04057012,  0.02946296,  0.03632484,  0.0024252 ,\n",
       "         0.00668888, -0.01052734, -0.01796097, -0.01289224]),\n",
       " array([ 0.07068731,  0.0808793 ,  0.06858236,  0.07225236,  0.08287734,\n",
       "         0.04490908,  0.0372009 ,  0.05016541,  0.05275799,  0.04986833,\n",
       "         0.05114606,  0.05359635,  0.03891704,  0.04801023,  0.00320164,\n",
       "         0.00883862, -0.0139051 , -0.02373663, -0.01703278]),\n",
       " array([ 0.09337521,  0.10684895,  0.09059836,  0.09544432,  0.10948395,\n",
       "         0.05930735,  0.04913229,  0.06626004,  0.06968816,  0.06585823,\n",
       "         0.06755447,  0.07079021,  0.05139149,  0.06345084,  0.00422481,\n",
       "         0.01167768, -0.01836181, -0.03136672, -0.02249888]),\n",
       " array([ 0.12331573,  0.14112814,  0.11965496,  0.12605131,  0.14460047,\n",
       "         0.07829648,  0.0648713 ,  0.08749477,  0.09202807,  0.08694777,\n",
       "         0.08920256,  0.0934741 ,  0.0678414 ,  0.08385059,  0.00557174,\n",
       "         0.01542594, -0.02423848, -0.04144451, -0.02971175]),\n",
       " array([ 0.16280548,  0.18635404,  0.15798376,  0.16642238,  0.19092514,\n",
       "         0.10332145,  0.08561892,  0.11549369,  0.12148911,  0.11474298,\n",
       "         0.11774542,  0.12338181,  0.08951655,  0.11079724,  0.00734247,\n",
       "         0.02037252, -0.03198129, -0.05475153, -0.03922413]),\n",
       " array([ 0.21485223,  0.24598482,  0.20850888,  0.21963464,  0.25199426,\n",
       "         0.13626801,  0.11294441,  0.15238113,  0.16031136,  0.15134066,\n",
       "         0.15534755,  0.16278056,  0.11804693,  0.14638315,  0.00966614,\n",
       "         0.02689693, -0.04217192, -0.0723161 , -0.05175961]),\n",
       " array([ 0.28338308,  0.32454333,  0.27505109,  0.28970706,  0.33242964,\n",
       "         0.17958687,  0.14889063,  0.20092619,  0.21141754,  0.19946711,\n",
       "         0.20482982,  0.21462455,  0.15554899,  0.19336295,  0.01270806,\n",
       "         0.03549621, -0.05556537, -0.09548923, -0.06826247]),\n",
       " array([ 0.37350489,  0.42792464,  0.36258388,  0.38186822,  0.43824955,\n",
       "         0.23644496,  0.19610358,  0.26472208,  0.27860495,  0.26264796,\n",
       "         0.26985147,  0.28274523,  0.20475461,  0.25535841,  0.01667743,\n",
       "         0.04681934, -0.07313554, -0.12604242, -0.08995991]),\n",
       " array([ 0.49182321,  0.56377727,  0.47754903,  0.50288513,  0.57725254,\n",
       "         0.31090379,  0.25798778,  0.34840317,  0.36677955,  0.34540938,\n",
       "         0.35513017,  0.37208084,  0.2691621 ,  0.33712312,  0.02183464,\n",
       "         0.06171012, -0.09612859, -0.16629244, -0.11843803]),\n",
       " array([ 0.64682131,  0.74196497,  0.62823505,  0.66145542,  0.7594788 ,\n",
       "         0.40811885,  0.33888478,  0.4578988 ,  0.48223265,  0.45350547,\n",
       "         0.46669839,  0.48894343,  0.3532035 ,  0.44488212,  0.02849617,\n",
       "         0.08125956, -0.12612137, -0.2192589 , -0.15573194]),\n",
       " array([ 0.84929038,  0.97510671,  0.8252132 ,  0.86865552,  0.99774385,\n",
       "         0.53454321,  0.44426537,  0.60071398,  0.63295262,  0.59415504,\n",
       "         0.61218564,  0.64131183,  0.46241224,  0.58676316,  0.03703282,\n",
       "         0.10686766, -0.16507931, -0.28885972, -0.2044278 ]),\n",
       " array([ 1.11278246,  1.27917541,  1.08180936,  1.1384179 ,  1.30821948,\n",
       "         0.69809874,  0.5809132 ,  0.78621213,  0.82894987,  0.77625198,\n",
       "         0.80110007,  0.83912202,  0.60355927,  0.77333715,  0.04785393,\n",
       "         0.14031227, -0.21540133, -0.38014848, -0.26777032]),\n",
       " array([ 1.45402405,  1.67410494,  1.4145613 ,  1.48797832,  1.71100321,\n",
       "         0.90824774,  0.75705771,  1.02585063,  1.08254971,  1.01048214,\n",
       "         1.04505712,  1.09449907,  0.784699  ,  1.01828321,  0.06136439,\n",
       "         0.18381864, -0.27993002, -0.49959338, -0.34976196]),\n",
       " array([ 1.89317547,  2.18430634,  1.84356693,  1.9381824 ,  2.23056401,\n",
       "         1.1758501 ,  0.98238576,  1.33328337,  1.40857282,  1.30923471,\n",
       "         1.35786516,  1.42183433,  1.015029  ,  1.33918689,  0.07787257,\n",
       "         0.24011558, -0.36189081, -0.65538989, -0.45522984]),\n",
       " array([ 2.45374663,  2.83892348,  2.39256717,  2.51346873,  2.89587735,\n",
       "         1.51262809,  1.26782589,  1.72419855,  1.82427829,  1.68613821,\n",
       "         1.75532889,  1.83755983,  1.30442048,  1.75846568,  0.09741439,\n",
       "         0.31245138, -0.46470628, -0.85778616, -0.58982294]),\n",
       " array([ 3.1618875 ,  3.67157158,  3.08853419,  3.24125751,  3.73997188,\n",
       "         1.92998744,  1.62496689,  2.21571379,  2.34889882,  2.15499165,\n",
       "         2.25458243,  2.3594192 ,  1.66242977,  2.30438972,  0.11944148,\n",
       "         0.40452293, -0.59161317, -1.11937939, -0.7598907 ]),\n",
       " array([ 4.04468502,  4.71922044,  3.96047441,  4.15039306,  4.79853001,\n",
       "         2.4368858 ,  2.06496548,  2.82513029,  3.00257753,  2.72783169,\n",
       "         2.87274074,  3.00500965,  2.09658425,  3.01212539,  0.14230185,\n",
       "         0.52024299, -0.74500156, -1.45531413, -0.97219078]),\n",
       " array([ 5.12706997,  6.01985876,  5.03715269,  5.26826841,  6.10717152,\n",
       "         3.03644815,  2.59685821,  3.56790327,  3.80456822,  3.41193274,\n",
       "         3.62471281,  3.789426  ,  2.6097962 ,  3.92467462,  0.16242777,\n",
       "         0.66323747, -0.92541478, -1.88328036, -1.23339726]),\n",
       " array([ 6.42705659,  7.60869419,  6.3435754 ,  6.61638885,  7.69719423,\n",
       "         3.72118509,  3.22536999,  4.45488096,  4.77074989,  4.20575697,\n",
       "         4.52021956,  4.72204592,  3.19696355,  5.09351874,  0.17315532,\n",
       "         0.83593767, -1.13021977, -2.42318029, -1.54944795]),\n",
       " array([ 7.94941025,  9.51300651,  7.89640466,  8.2045085 ,  9.58994734,\n",
       "         4.46705994,  3.94863156,  5.48924151,  5.91087397,  5.09430887,\n",
       "         5.56045221,  5.80290393,  3.84120557,  6.57871758,  0.16316517,\n",
       "         1.03814077, -1.35209788, -3.09632066, -1.92489357]),\n",
       " array([ 9.67851221, 11.74642356,  9.69901428, 10.02413945, 11.79069125,\n",
       "         5.22729168,  4.75660815,  6.66405649,  7.22645428,  6.04494342,\n",
       "         6.73533638,  7.01964702,  4.51069346,  8.44818101,  0.11469562,\n",
       "         1.26500141, -1.57769579, -3.92400689, -2.3625659 ]),\n",
       " array([ 1.15720394e+01,  1.43042045e+01,  1.17374590e+01,  1.20430471e+01,\n",
       "         1.42835765e+01,  5.92752657e+00,  5.63126917e+00,  7.96178291e+00,\n",
       "         8.71058588e+00,  7.00515388e+00,  8.02278701e+00,  8.34648206e+00,\n",
       "         5.15741600e+00,  1.07758295e+01,  1.96198586e-03,  1.50463419e+00,\n",
       "        -1.78692688e+00, -4.92546964e+00, -2.86398118e+00]),\n",
       " array([13.55770806, 17.16170423, 13.97883712, 14.20291396, 17.02981343,\n",
       "         6.46449617,  6.54924465,  9.3568283 , 10.3508473 ,  7.90376734,\n",
       "         9.39123666,  9.74637681,  5.71906839, 13.63836653, -0.20942331,\n",
       "         1.73584319, -1.95337944, -6.11511854, -3.4308017 ]),\n",
       " array([15.53518356, 20.27800967, 16.37298559, 16.42214297, 19.97067096,\n",
       "         6.71007217,  7.48672103, 10.82135721, 12.13551069,  8.65597178,\n",
       "        10.80578837, 11.1767476 ,  6.12429742, 17.11032787, -0.56097269,\n",
       "         1.92681539, -2.04595598, -7.49914676, -4.06730766]),\n",
       " array([17.38397112, 23.60544182, 18.85713349, 18.60448789, 23.03543685,\n",
       "         6.52157077,  8.42494322, 12.33295284, 14.06177663,  9.17095154,\n",
       "        12.23680332, 12.59721374,  6.30005559, 21.25691185, -1.09686171,\n",
       "         2.03565501, -2.03131266, -9.0714886 , -4.78328   ]),\n",
       " array([ 18.975937  ,  27.10348755,  21.36169466,  20.65216798,\n",
       "         26.15242807,   5.75762891,   9.35377264,  13.88148804,\n",
       "         16.14350036,   9.35960716,  13.66844657,  13.97666604,\n",
       "          6.1787058 ,  26.12396806,  -1.856342  ,   2.01316732,\n",
       "         -1.87619048, -10.80916669,  -5.59627954]),\n",
       " array([ 20.18900669,  30.75372788,  23.81482324,  22.48029633,\n",
       "         29.25967405,   4.29769286,  10.27111174,  15.47252438,\n",
       "         18.41579878,   9.13992919,  15.10461701,  15.29689831,\n",
       "          5.70265764,  31.72487806,  -2.86426034,   1.80744411,\n",
       "         -1.54867953, -12.66741235,  -6.53235866]),\n",
       " array([ 20.91762458,  34.5715449 ,  26.14433615,  24.02876345,\n",
       "         32.31196006,   2.0625768 ,  11.17760703,  17.12586884,\n",
       "         20.93517804,   8.43919909,  16.57092407,  16.55152589,\n",
       "          4.82569205,  38.02543233,  -4.12233016,   1.36913944,\n",
       "         -1.01793503, -14.57581928,  -7.62481431]),\n",
       " array([ 21.07622108,  38.61127122,  28.27774453,  25.26843456,\n",
       "         35.2825203 ,  -0.96652977,  12.06796662,  18.86972016,\n",
       "         23.77560758,   7.19425463,  18.11309634,  17.74092801,\n",
       "          3.51173264,  44.93018595,  -5.60441819,   0.65652025,\n",
       "         -0.25266267, -16.43797902,  -8.91138728]),\n",
       " array([ 20.59387872,  42.96356271,  30.14312934,  26.20012114,\n",
       "         38.15983112,  -4.73329613,  12.92148398,  20.73206927,\n",
       "         27.02225844,   5.35224835,  19.79334962,  18.86530239,\n",
       "          1.7325453 ,  52.27598771,  -7.25830621,  -0.35952404,\n",
       "          0.7805038 , -18.13763732, -10.43086728]),\n",
       " array([ 19.40090682,  47.74626857,  31.67400276,  26.84656114,\n",
       "         40.94141903,  -9.09855825,  13.69464056,  22.73124605,\n",
       "         30.76495717,   2.87404566,  21.68637432,  19.91807607,\n",
       "         -0.53458308,  59.83838821,  -9.01424591,  -1.6892549 ,\n",
       "          2.11703823, -19.55320263, -12.21997419]),\n",
       " array([ 17.41054966,  53.0922424 ,  32.81948158,  27.23924058,\n",
       "         43.62667431, -13.84224401,  14.31825714,  24.86700242,\n",
       "         35.09298906,  -0.25901718,  23.87603952,  20.88113682,\n",
       "         -3.30913831,  67.35309556, -10.79803683,  -3.31567584,\n",
       "          3.79116254, -20.57905526, -14.31051203]),\n",
       " array([ 14.50109126,  59.13887947,  33.5578501 ,  27.40323707,\n",
       "         46.20958046, -18.67629099,  14.70092279,  27.11278772,\n",
       "         40.09214878,  -4.03606678,  26.45321303,  21.7222132 ,\n",
       "         -6.61030281,  74.54865341, -12.54460682,  -5.18514189,\n",
       "          5.82791857, -21.1479391 , -16.72555904]),\n",
       " array([ 10.50449742,  66.02404022,  33.90890443,  27.34407095,\n",
       "         48.67093435, -23.26809945,  14.73939711,  29.40922655,\n",
       "         45.84415469,  -8.40765948,  29.51463074,  22.3937214 ,\n",
       "        -10.4609293 ,  81.18151232, -14.20802958,  -7.20099109,\n",
       "          8.23109945, -21.24647743, -19.47297232]),\n",
       " array([  5.20676417,  73.89074946,  33.9403137 ,  27.04023662,\n",
       "         50.96906655, -27.27218334,  14.33518619,  31.65833438,\n",
       "         52.42778286, -13.27936987,  33.16257288,  22.83179171,\n",
       "        -14.89161336,  87.06387609, -15.7654506 ,  -9.22529384,\n",
       "         10.96986283, -20.91758563, -22.53586119]),\n",
       " array([ -1.63760465,  82.8987543 ,  33.76588259,  26.44336288,\n",
       "         53.02890823, -30.36613698,  13.41453043,  33.71773272,\n",
       "         59.92045784, -18.50981214,  37.50507525,  22.95414257,\n",
       "        -19.94194053,  92.07834394, -17.21461035, -11.09172004,\n",
       "         13.96914846, -20.24873956, -25.86271803]),\n",
       " array([-10.27789481,  93.23619438,  33.53708629,  25.48533334,\n",
       "         54.73145993, -32.28597533,  11.94719412,  35.39422659,\n",
       "         68.39897594, -23.91384268,  42.65630787,  22.65613808,\n",
       "        -25.65475272,  96.17869838, -18.56662293, -12.62812747,\n",
       "         17.1096601 , -19.35074094, -29.3625212 ]),\n",
       " array([-20.92957608, 105.12158652,  33.4308378 ,  24.08935959,\n",
       "         55.90853163, -32.85563801,   9.95879193,  36.43679499,\n",
       "         77.9390568 , -29.27124912,  48.73641413,  21.80587727,\n",
       "        -32.06038201,  99.38019884, -19.83689549, -13.68337067,\n",
       "         20.24074118, -18.33459326, -32.90976304]),\n",
       " array([-33.73114007, 118.78666388,  33.63509143,  22.1811994 ,\n",
       "         56.34955978, -32.00626959,   7.5327349 ,  36.53017048,\n",
       "         88.61547503, -34.34148997,  55.86941231,  20.24134651,\n",
       "        -39.15181207, 101.74429662, -21.03736066, -14.1512141 ,\n",
       "         23.20425769, -17.2932393 , -36.36035541]),\n",
       " array([-48.70021568, 134.43457508,  34.33132691,  19.69814316,\n",
       "         55.82641138, -29.7826317 ,   4.80097648,  35.29102595,\n",
       "        100.50659525, -38.88497149,  64.17675848,  17.77468127,\n",
       "        -46.85718906, 103.36232535, -22.17241378, -13.98552987,\n",
       "         25.862304  , -16.29158932, -39.57409615]),\n",
       " array([-65.69485845, 152.17507918,  35.67228007,  16.59644526,\n",
       "         54.1368906 , -26.33613594,   1.92628442,  32.2685356 ,\n",
       "        113.70778644, -42.68977983,  73.76319835,  14.20891229,\n",
       "        -55.01986378, 104.34135749, -23.23922485, -13.20410023,\n",
       "         28.11966542, -15.36481866, -42.43646491]),\n",
       " array([-84.38761578, 171.94801223,  37.75615749,  12.86024937,\n",
       "         51.15882538, -21.90603859,  -0.91887599,  26.94965339,\n",
       "        128.35674439, -45.59979936,  84.69141791,   9.36960756,\n",
       "        -63.39518771, 104.79367519, -24.23113217, -11.88176767,\n",
       "         29.93479092, -14.52282541, -44.87367706]),\n",
       " array([-104.26111174,  193.45641576,   40.60350589,    8.51404139,\n",
       "          46.89800238,  -16.7919621 ,   -3.57166104,   18.76779921,\n",
       "         144.67087077,  -47.53723129,   96.94394579,    3.14694678,\n",
       "         -71.66707472,  104.82964405,  -25.14170614,  -10.13606327,\n",
       "          31.31840627,  -13.7581185 ,  -46.85869504]),\n",
       " array([-124.63270692,  216.13629732,   44.14596002,    3.63610466,\n",
       "          41.51063986,  -11.32185579,   -5.89316652,    7.11305928,\n",
       "         162.99389435,  -48.51138272,  110.37552686,   -4.46544482,\n",
       "         -79.47894874,  104.55271136,  -25.96744438,   -8.10918893,\n",
       "          32.3233021 ,  -13.05459491,  -48.40938147]),\n",
       " array([-144.7108441 ,  239.18452469,   48.23374916,   -1.63388184,\n",
       "          35.28840656,   -5.81984023,   -7.77714577,   -8.65692562,\n",
       "         183.84666059,  -48.60699571,  124.66557139,  -13.35573365,\n",
       "         -86.46811555,  104.05520039,  -26.70848938,   -5.94967634,\n",
       "          33.03032823,  -12.39507495,  -49.58146536]),\n",
       " array([-163.67698477,  261.64759693,   52.66120001,   -7.09944846,\n",
       "          28.60916756,   -0.57839494,   -9.15409443,  -29.20413752,\n",
       "         207.9752209 ,  -47.94932065,  139.28441296,  -23.32303486,\n",
       "         -92.29293798,  103.41447273,  -27.36809012,   -3.7961241 ,\n",
       "          33.5347285 ,  -11.76597568,  -50.45877537]),\n",
       " array([-180.77729952,  282.54930341,   57.20104781,  -12.52462072,\n",
       "          21.87147138,    4.16104238,   -9.99174597,  -55.1925843 ,\n",
       "         236.38745258,  -46.64943285,  153.48487041,  -34.15714507,\n",
       "         -96.64733229,  102.69015166,  -27.95191606,   -1.76476344,\n",
       "          33.9352149 ,  -11.15831542,  -51.1424949 ]),\n",
       " array([-1.95402707e+02,  3.01018839e+02,  6.16349886e+01, -1.76577405e+01,\n",
       "         1.54361425e+01,  8.21646963e+00, -1.02925110e+01, -8.72633761e+01,\n",
       "         2.70367230e+02, -4.47410807e+01,  1.66322495e+02, -4.57528052e+01,\n",
       "        -9.92632801e+01,  1.01923499e+02, -2.84678423e+01,  5.79128001e-02,\n",
       "         3.43266324e+01, -1.05654378e+01, -5.17407757e+01]),\n",
       " array([-207.13877936,  316.38327678,   65.77186916,  -22.25360166,\n",
       "           9.59130048,   11.46299116,  -10.08825336, -126.00219411,\n",
       "         311.45262494,  -42.12705079,  176.7006012 ,  -58.22082262,\n",
       "         -99.90638725,  101.13939139,  -28.92610668,    1.61705246,\n",
       "          34.79590531,   -9.97905713,  -52.35980466]),\n",
       " array([-215.77787527,  328.20733064,   69.45302645,  -26.08927256,\n",
       "           4.5433417 ,   13.82336827,   -9.43309095, -171.9008638 ,\n",
       "         361.36182836,  -38.55496605,  183.43660193,  -71.95035656,\n",
       "         -98.37149956,  100.35024318,  -29.33934309,    2.88663729,\n",
       "          35.42010672,   -9.38582715,  -53.09690999]),\n",
       " array([-221.29904476,  336.28659476,   72.55081809,  -28.9747164 ,\n",
       "           0.4250481 ,   15.25705572,   -8.39521445, -225.31261996,\n",
       "         421.84875117,  -33.63722477,  185.35292714,  -87.58785771,\n",
       "         -94.48557742,   99.56054541,  -29.72203911,    3.86372229,\n",
       "          36.26502709,   -8.76627893,  -54.03545255]),\n",
       " array([-223.8304238 ,  340.6153965 ,   74.96773115,  -30.76266301,\n",
       "          -2.69149377,   15.75292484,   -7.0488923 , -286.39319884,\n",
       "         494.47374581,  -26.91821385,  181.39929312, -105.92380078,\n",
       "         -88.12355485,   98.77086919,  -30.08926093,    4.56180869,\n",
       "          37.38271796,   -8.09688288,  -55.24051721]),\n",
       " array([-223.61065618,  341.35205475,   76.64013045,  -31.36119357,\n",
       "          -4.78582801,   15.32837526,   -5.46794154, -355.013484  ,\n",
       "         580.29010645,  -17.9776632 ,  170.80506791, -127.70774623,\n",
       "         -79.23925346,   97.98085867,  -30.45480886,    5.00504168,\n",
       "          38.80720111,   -7.35475152,  -56.75435059]),\n",
       " array([-220.96083572,  338.79549597,   77.54586901,  -30.74857205,\n",
       "          -5.88617507,   14.03417446,   -3.72179898, -430.6366291 ,\n",
       "         679.47932241,   -6.54680772,  153.24227282, -153.43550043,\n",
       "         -67.90734147,   97.1913519 ,  -30.82919037,    5.22409819,\n",
       "          40.54871227,   -6.52359011,  -58.59126797]),\n",
       " array([-216.26936459,  333.37398661,   77.71161911,  -28.98581925,\n",
       "          -6.06969014,   11.96140026,   -1.87456482, -512.18071951,\n",
       "         791.01424846,    7.39245585,  128.96065242, -183.16387532,\n",
       "         -54.36478606,   96.4059106 ,  -31.21790213,    5.25375375,\n",
       "          42.58815709,   -5.59910825,  -60.73308293]),\n",
       " array([-2.09983060e+02,  3.25635441e+02,  7.72150852e+01, -2.62205628e+01,\n",
       "        -5.46088206e+00,  9.24521887e+00,  1.38808243e-02, -5.97925990e+02,\n",
       "         9.12470187e+02,  2.35542991e+01,  9.88468189e+01, -2.16407100e+02,\n",
       "        -3.90341535e+01,  9.56317727e+01, -3.16205064e+01,  5.13147345e+00,\n",
       "         4.48744037e+01, -4.59219345e+00, -6.31273211e+01]),\n",
       " array([-202.5932125 ,  316.22441744,   76.17884047,  -22.67675632,\n",
       "          -4.22387252,    6.06059992,    1.88660326, -685.54403491,\n",
       "        1040.1053402 ,   41.36140617,   64.36789881, -252.15297715,\n",
       "         -22.51102071,   94.87993321,  -32.03085433,    4.89613748,\n",
       "          47.32700309,   -3.5286737 ,  -65.69072153]),\n",
       " array([-194.60795877,  305.83612711,   74.75545698,  -18.62891626,\n",
       "          -2.54695724,    2.60778843,    3.69001951, -772.29814781,\n",
       "        1169.26586392,   60.02570686,   27.38991992, -289.00539224,\n",
       "          -5.50726195,   94.16407257,  -32.43852169,    4.58624546,\n",
       "          49.8454701 ,   -2.44544461,  -68.31921342]),\n",
       " array([-1.86511230e+02,  2.95150458e+02,  7.31068534e+01, -1.43653550e+01,\n",
       "        -6.21599046e-01, -9.10273536e-01,  5.37656872e+00, -8.55391600e+02,\n",
       "         1.29504770e+03,  7.86778782e+01, -1.00945289e+01, -3.25418517e+02,\n",
       "         1.12406830e+01,  9.34984560e+01, -3.28311312e+01,  4.23751887e+00,\n",
       "         5.23236807e+01, -1.38393762e+00, -7.09029712e+01]),\n",
       " array([-1.78718159e+02,  2.84761830e+02,  7.13831003e+01, -1.01497515e+01,\n",
       "         1.37910083e+00, -4.31244923e+00,  6.90862583e+00, -9.32364936e+02,\n",
       "         1.41303015e+03,  9.65083228e+01, -4.62568204e+01, -3.59954218e+02,\n",
       "         2.70730529e+01,  9.28954328e+01, -3.31969029e+01,  3.88040839e+00,\n",
       "         5.46655393e+01, -3.82877239e-01, -7.33426650e+01]),\n",
       " array([-1.71540806e+02,  2.75125273e+02,  6.97060918e+01, -6.19133273e+00,\n",
       "         3.31682921e+00, -7.45860642e+00,  8.26178679e+00, -1.00141535e+03,\n",
       "         1.51986118e+03,  1.12879410e+02, -7.96605383e+01, -3.91487961e+02,\n",
       "         4.14871063e+01,  9.23633821e+01, -3.35267076e+01,  3.53825593e+00,\n",
       "         5.67973863e+01,  5.27544241e-01, -7.55622849e+01]),\n",
       " array([-1.65173990e+02,  2.66532633e+02,  6.81613588e+01, -2.63017005e+00,\n",
       "         5.09585524e+00, -1.02587267e+01,  9.42602697e+00, -1.06154935e+03,\n",
       "         1.61354642e+03,  1.27383302e+02, -1.09375753e+02, -4.19315052e+02,\n",
       "         5.41761368e+01,  9.19057200e+01, -3.38151552e+01,  3.22663861e+00,\n",
       "         5.86741280e+01,  1.32869836e+00, -7.75154518e+01]),\n",
       " array([-1.59702397e+02,  2.59120248e+02,  6.67981176e+01,  4.61996799e-01,\n",
       "         6.66205569e+00, -1.26714303e+01,  1.04043750e+01, -1.11255521e+03,\n",
       "         1.69342308e+03,  1.39842802e+02, -1.34974861e+02, -4.43151935e+02,\n",
       "         6.50246819e+01,  9.15210781e+01, -3.40606596e+01,  2.95393706e+00,\n",
       "         6.02787513e+01,  2.01359711e+00, -7.91848808e+01]),\n",
       " array([ -155.12269785,   252.89886139,    65.63516249,     3.06989154,\n",
       "            7.9957486 ,   -14.69495766,    11.20979935, -1154.84592192,\n",
       "         1759.90765608,   150.27122761,  -156.44376436,  -463.06190313,\n",
       "           74.07234857,    91.20433249,   -34.26476633,     2.72275472,\n",
       "           61.61709761,     2.58483594,   -80.57694347]),\n",
       " array([ -151.37164505,   247.79268869,    64.6693677 ,     5.21799743,\n",
       "            9.10185203,   -16.35493964,    11.86143705, -1189.24756321,\n",
       "         1814.14604812,   158.81401518,  -174.05585537,  -479.34714206,\n",
       "           81.46420233,    90.94798569,   -34.43114643,     2.53166326,\n",
       "           62.71058577,     3.05158342,   -81.71411535])]"
      ]
     },
     "execution_count": 88,
     "metadata": {},
     "output_type": "execute_result"
    }
   ],
   "source": [
    "coefs"
   ]
  },
  {
   "cell_type": "code",
   "execution_count": 89,
   "metadata": {},
   "outputs": [
    {
     "data": {
      "image/png": "[encoded data removed]",
      "text/plain": [
       "<Figure size 432x288 with 1 Axes>"
      ]
     },
     "metadata": {
      "needs_background": "light"
     },
     "output_type": "display_data"
    }
   ],
   "source": [
    "ax = plt.gca()\n",
    "ax.plot(alphas, coefs) \n",
    "ax.set_xscale(\"log\")"
   ]
  },
  {
   "cell_type": "code",
   "execution_count": 90,
   "metadata": {},
   "outputs": [
    {
     "data": {
      "text/plain": [
       "384.5818032838613"
      ]
     },
     "execution_count": 90,
     "metadata": {},
     "output_type": "execute_result"
    }
   ],
   "source": [
    "ridge_model = Ridge().fit(X_train, y_train)\n",
    "y_pred = ridge_model.predict(X_test)\n",
    "np.sqrt(mean_squared_error(y_test, y_pred))"
   ]
  },
  {
   "cell_type": "markdown",
   "metadata": {},
   "source": [
    "# Model Tuning"
   ]
  },
  {
   "cell_type": "code",
   "execution_count": 91,
   "metadata": {},
   "outputs": [
    {
     "data": {
      "text/plain": [
       "\u001b[1;31mInit signature:\u001b[0m\n",
       "\u001b[0mRidge\u001b[0m\u001b[1;33m(\u001b[0m\u001b[1;33m\n",
       "\u001b[0m    \u001b[0malpha\u001b[0m\u001b[1;33m=\u001b[0m\u001b[1;36m1.0\u001b[0m\u001b[1;33m,\u001b[0m\u001b[1;33m\n",
       "\u001b[0m    \u001b[0mfit_intercept\u001b[0m\u001b[1;33m=\u001b[0m\u001b[1;32mTrue\u001b[0m\u001b[1;33m,\u001b[0m\u001b[1;33m\n",
       "\u001b[0m    \u001b[0mnormalize\u001b[0m\u001b[1;33m=\u001b[0m\u001b[1;32mFalse\u001b[0m\u001b[1;33m,\u001b[0m\u001b[1;33m\n",
       "\u001b[0m    \u001b[0mcopy_X\u001b[0m\u001b[1;33m=\u001b[0m\u001b[1;32mTrue\u001b[0m\u001b[1;33m,\u001b[0m\u001b[1;33m\n",
       "\u001b[0m    \u001b[0mmax_iter\u001b[0m\u001b[1;33m=\u001b[0m\u001b[1;32mNone\u001b[0m\u001b[1;33m,\u001b[0m\u001b[1;33m\n",
       "\u001b[0m    \u001b[0mtol\u001b[0m\u001b[1;33m=\u001b[0m\u001b[1;36m0.001\u001b[0m\u001b[1;33m,\u001b[0m\u001b[1;33m\n",
       "\u001b[0m    \u001b[0msolver\u001b[0m\u001b[1;33m=\u001b[0m\u001b[1;34m'auto'\u001b[0m\u001b[1;33m,\u001b[0m\u001b[1;33m\n",
       "\u001b[0m    \u001b[0mrandom_state\u001b[0m\u001b[1;33m=\u001b[0m\u001b[1;32mNone\u001b[0m\u001b[1;33m,\u001b[0m\u001b[1;33m\n",
       "\u001b[0m\u001b[1;33m)\u001b[0m\u001b[1;33m\u001b[0m\u001b[1;33m\u001b[0m\u001b[0m\n",
       "\u001b[1;31mDocstring:\u001b[0m     \n",
       "Linear least squares with l2 regularization.\n",
       "\n",
       "Minimizes the objective function::\n",
       "\n",
       "||y - Xw||^2_2 + alpha * ||w||^2_2\n",
       "\n",
       "This model solves a regression model where the loss function is\n",
       "the linear least squares function and regularization is given by\n",
       "the l2-norm. Also known as Ridge Regression or Tikhonov regularization.\n",
       "This estimator has built-in support for multi-variate regression\n",
       "(i.e., when y is a 2d-array of shape [n_samples, n_targets]).\n",
       "\n",
       "Read more in the :ref:`User Guide <ridge_regression>`.\n",
       "\n",
       "Parameters\n",
       "----------\n",
       "alpha : {float, array-like}, shape (n_targets)\n",
       "    Regularization strength; must be a positive float. Regularization\n",
       "    improves the conditioning of the problem and reduces the variance of\n",
       "    the estimates. Larger values specify stronger regularization.\n",
       "    Alpha corresponds to ``C^-1`` in other linear models such as\n",
       "    LogisticRegression or LinearSVC. If an array is passed, penalties are\n",
       "    assumed to be specific to the targets. Hence they must correspond in\n",
       "    number.\n",
       "\n",
       "fit_intercept : boolean\n",
       "    Whether to calculate the intercept for this model. If set\n",
       "    to false, no intercept will be used in calculations\n",
       "    (e.g. data is expected to be already centered).\n",
       "\n",
       "normalize : boolean, optional, default False\n",
       "    This parameter is ignored when ``fit_intercept`` is set to False.\n",
       "    If True, the regressors X will be normalized before regression by\n",
       "    subtracting the mean and dividing by the l2-norm.\n",
       "    If you wish to standardize, please use\n",
       "    :class:`sklearn.preprocessing.StandardScaler` before calling ``fit``\n",
       "    on an estimator with ``normalize=False``.\n",
       "\n",
       "copy_X : boolean, optional, default True\n",
       "    If True, X will be copied; else, it may be overwritten.\n",
       "\n",
       "max_iter : int, optional\n",
       "    Maximum number of iterations for conjugate gradient solver.\n",
       "    For 'sparse_cg' and 'lsqr' solvers, the default value is determined\n",
       "    by scipy.sparse.linalg. For 'sag' solver, the default value is 1000.\n",
       "\n",
       "tol : float\n",
       "    Precision of the solution.\n",
       "\n",
       "solver : {'auto', 'svd', 'cholesky', 'lsqr', 'sparse_cg', 'sag', 'saga'}\n",
       "    Solver to use in the computational routines:\n",
       "\n",
       "    - 'auto' chooses the solver automatically based on the type of data.\n",
       "\n",
       "    - 'svd' uses a Singular Value Decomposition of X to compute the Ridge\n",
       "      coefficients. More stable for singular matrices than\n",
       "      'cholesky'.\n",
       "\n",
       "    - 'cholesky' uses the standard scipy.linalg.solve function to\n",
       "      obtain a closed-form solution.\n",
       "\n",
       "    - 'sparse_cg' uses the conjugate gradient solver as found in\n",
       "      scipy.sparse.linalg.cg. As an iterative algorithm, this solver is\n",
       "      more appropriate than 'cholesky' for large-scale data\n",
       "      (possibility to set `tol` and `max_iter`).\n",
       "\n",
       "    - 'lsqr' uses the dedicated regularized least-squares routine\n",
       "      scipy.sparse.linalg.lsqr. It is the fastest and uses an iterative\n",
       "      procedure.\n",
       "\n",
       "    - 'sag' uses a Stochastic Average Gradient descent, and 'saga' uses\n",
       "      its improved, unbiased version named SAGA. Both methods also use an\n",
       "      iterative procedure, and are often faster than other solvers when\n",
       "      both n_samples and n_features are large. Note that 'sag' and\n",
       "      'saga' fast convergence is only guaranteed on features with\n",
       "      approximately the same scale. You can preprocess the data with a\n",
       "      scaler from sklearn.preprocessing.\n",
       "\n",
       "    All last five solvers support both dense and sparse data. However, only\n",
       "    'sag' and 'sparse_cg' supports sparse input when `fit_intercept` is\n",
       "    True.\n",
       "\n",
       "    .. versionadded:: 0.17\n",
       "       Stochastic Average Gradient descent solver.\n",
       "    .. versionadded:: 0.19\n",
       "       SAGA solver.\n",
       "\n",
       "random_state : int, RandomState instance or None, optional, default None\n",
       "    The seed of the pseudo random number generator to use when shuffling\n",
       "    the data.  If int, random_state is the seed used by the random number\n",
       "    generator; If RandomState instance, random_state is the random number\n",
       "    generator; If None, the random number generator is the RandomState\n",
       "    instance used by `np.random`. Used when ``solver`` == 'sag'.\n",
       "\n",
       "    .. versionadded:: 0.17\n",
       "       *random_state* to support Stochastic Average Gradient.\n",
       "\n",
       "Attributes\n",
       "----------\n",
       "coef_ : array, shape (n_features,) or (n_targets, n_features)\n",
       "    Weight vector(s).\n",
       "\n",
       "intercept_ : float | array, shape = (n_targets,)\n",
       "    Independent term in decision function. Set to 0.0 if\n",
       "    ``fit_intercept = False``.\n",
       "\n",
       "n_iter_ : array or None, shape (n_targets,)\n",
       "    Actual number of iterations for each target. Available only for\n",
       "    sag and lsqr solvers. Other solvers will return None.\n",
       "\n",
       "    .. versionadded:: 0.17\n",
       "\n",
       "See also\n",
       "--------\n",
       "RidgeClassifier : Ridge classifier\n",
       "RidgeCV : Ridge regression with built-in cross validation\n",
       ":class:`sklearn.kernel_ridge.KernelRidge` : Kernel ridge regression\n",
       "    combines ridge regression with the kernel trick\n",
       "\n",
       "Examples\n",
       "--------\n",
       ">>> from sklearn.linear_model import Ridge\n",
       ">>> import numpy as np\n",
       ">>> n_samples, n_features = 10, 5\n",
       ">>> rng = np.random.RandomState(0)\n",
       ">>> y = rng.randn(n_samples)\n",
       ">>> X = rng.randn(n_samples, n_features)\n",
       ">>> clf = Ridge(alpha=1.0)\n",
       ">>> clf.fit(X, y) # doctest: +NORMALIZE_WHITESPACE\n",
       "Ridge(alpha=1.0, copy_X=True, fit_intercept=True, max_iter=None,\n",
       "      normalize=False, random_state=None, solver='auto', tol=0.001)\n",
       "\u001b[1;31mFile:\u001b[0m           c:\\users\\gebruiker\\anaconda3\\lib\\site-packages\\sklearn\\linear_model\\ridge.py\n",
       "\u001b[1;31mType:\u001b[0m           ABCMeta\n",
       "\u001b[1;31mSubclasses:\u001b[0m     \n"
      ]
     },
     "metadata": {},
     "output_type": "display_data"
    }
   ],
   "source": [
    "?Ridge"
   ]
  },
  {
   "cell_type": "code",
   "execution_count": 92,
   "metadata": {},
   "outputs": [],
   "source": [
    "alphas1 = np.random.randint(0,1000,100)\n",
    "alphas2 = 10**np.linspace(10,-2,100)*0.5\n",
    "alphas3 = np.linspace(0,1,1000)"
   ]
  },
  {
   "cell_type": "code",
   "execution_count": 93,
   "metadata": {},
   "outputs": [],
   "source": [
    "ridge_cv = RidgeCV(alphas = alphas2, scoring = \"neg_mean_squared_error\", cv = 10, normalize = True)"
   ]
  },
  {
   "cell_type": "code",
   "execution_count": 94,
   "metadata": {},
   "outputs": [
    {
     "name": "stderr",
     "output_type": "stream",
     "text": [
      "C:\\Users\\gebruiker\\Anaconda3\\lib\\site-packages\\sklearn\\model_selection\\_search.py:814: DeprecationWarning: The default of the `iid` parameter will change from True to False in version 0.22 and will be removed in 0.24. This will change numeric results when test-set sizes are unequal.\n",
      "  DeprecationWarning)\n"
     ]
    },
    {
     "data": {
      "text/plain": [
       "RidgeCV(alphas=array([5.00000000e+09, 3.78231664e+09, 2.86118383e+09, 2.16438064e+09,\n",
       "       1.63727458e+09, 1.23853818e+09, 9.36908711e+08, 7.08737081e+08,\n",
       "       5.36133611e+08, 4.05565415e+08, 3.06795364e+08, 2.32079442e+08,\n",
       "       1.75559587e+08, 1.32804389e+08, 1.00461650e+08, 7.59955541e+07,\n",
       "       5.74878498e+07, 4.34874501e+07, 3.28966612e+07, 2.48851178e+07,\n",
       "       1.88246790e+07, 1.42401793e+0...\n",
       "       3.28966612e-01, 2.48851178e-01, 1.88246790e-01, 1.42401793e-01,\n",
       "       1.07721735e-01, 8.14875417e-02, 6.16423370e-02, 4.66301673e-02,\n",
       "       3.52740116e-02, 2.66834962e-02, 2.01850863e-02, 1.52692775e-02,\n",
       "       1.15506485e-02, 8.73764200e-03, 6.60970574e-03, 5.00000000e-03]),\n",
       "        cv=10, fit_intercept=True, gcv_mode=None, normalize=True,\n",
       "        scoring='neg_mean_squared_error', store_cv_values=False)"
      ]
     },
     "execution_count": 94,
     "metadata": {},
     "output_type": "execute_result"
    }
   ],
   "source": [
    "ridge_cv.fit(X_train, y_train)"
   ]
  },
  {
   "cell_type": "code",
   "execution_count": 95,
   "metadata": {},
   "outputs": [
    {
     "name": "stderr",
     "output_type": "stream",
     "text": [
      "C:\\Users\\gebruiker\\Anaconda3\\lib\\site-packages\\sklearn\\model_selection\\_search.py:814: DeprecationWarning: The default of the `iid` parameter will change from True to False in version 0.22 and will be removed in 0.24. This will change numeric results when test-set sizes are unequal.\n",
      "  DeprecationWarning)\n"
     ]
    },
    {
     "data": {
      "text/plain": [
       "RidgeCV(alphas=array([5.00000000e+09, 3.78231664e+09, 2.86118383e+09, 2.16438064e+09,\n",
       "       1.63727458e+09, 1.23853818e+09, 9.36908711e+08, 7.08737081e+08,\n",
       "       5.36133611e+08, 4.05565415e+08, 3.06795364e+08, 2.32079442e+08,\n",
       "       1.75559587e+08, 1.32804389e+08, 1.00461650e+08, 7.59955541e+07,\n",
       "       5.74878498e+07, 4.34874501e+07, 3.28966612e+07, 2.48851178e+07,\n",
       "       1.88246790e+07, 1.42401793e+0...\n",
       "       3.28966612e-01, 2.48851178e-01, 1.88246790e-01, 1.42401793e-01,\n",
       "       1.07721735e-01, 8.14875417e-02, 6.16423370e-02, 4.66301673e-02,\n",
       "       3.52740116e-02, 2.66834962e-02, 2.01850863e-02, 1.52692775e-02,\n",
       "       1.15506485e-02, 8.73764200e-03, 6.60970574e-03, 5.00000000e-03]),\n",
       "        cv=10, fit_intercept=True, gcv_mode=None, normalize=True,\n",
       "        scoring='neg_mean_squared_error', store_cv_values=False)"
      ]
     },
     "execution_count": 95,
     "metadata": {},
     "output_type": "execute_result"
    }
   ],
   "source": [
    "ridge_cv.fit(X, y)"
   ]
  },
  {
   "cell_type": "code",
   "execution_count": null,
   "metadata": {},
   "outputs": [],
   "source": []
  },
  {
   "cell_type": "code",
   "execution_count": 96,
   "metadata": {},
   "outputs": [
    {
     "data": {
      "text/plain": [
       "0.01155064850041579"
      ]
     },
     "execution_count": 96,
     "metadata": {},
     "output_type": "execute_result"
    }
   ],
   "source": [
    "ridge_cv.alpha_"
   ]
  },
  {
   "cell_type": "markdown",
   "metadata": {},
   "source": [
    "# TUNED MODEL"
   ]
  },
  {
   "cell_type": "code",
   "execution_count": 97,
   "metadata": {},
   "outputs": [
    {
     "data": {
      "text/plain": [
       "384.0918730232824"
      ]
     },
     "execution_count": 97,
     "metadata": {},
     "output_type": "execute_result"
    }
   ],
   "source": [
    "ridge_tuned = Ridge(alpha = 0.3289666123287841).fit(X_train, y_train)\n",
    "y_pred = ridge_tuned.predict(X_test)\n",
    "np.sqrt(mean_squared_error(y_test, y_pred))"
   ]
  },
  {
   "cell_type": "code",
   "execution_count": 98,
   "metadata": {},
   "outputs": [
    {
     "data": {
      "text/plain": [
       "303.34471923970403"
      ]
     },
     "execution_count": 98,
     "metadata": {},
     "output_type": "execute_result"
    }
   ],
   "source": [
    "ridge_tuned = Ridge(alpha = 0.011).fit(X, y)\n",
    "y_pred = ridge_tuned.predict(X)\n",
    "np.sqrt(mean_squared_error(y, y_pred))"
   ]
  },
  {
   "cell_type": "code",
   "execution_count": 99,
   "metadata": {},
   "outputs": [
    {
     "data": {
      "text/plain": [
       "(263, 20)"
      ]
     },
     "execution_count": 99,
     "metadata": {},
     "output_type": "execute_result"
    }
   ],
   "source": [
    "df.shape"
   ]
  },
  {
   "cell_type": "code",
   "execution_count": 100,
   "metadata": {},
   "outputs": [
    {
     "data": {
      "text/html": [
       "<div>\n",
       "<style scoped>\n",
       "    .dataframe tbody tr th:only-of-type {\n",
       "        vertical-align: middle;\n",
       "    }\n",
       "\n",
       "    .dataframe tbody tr th {\n",
       "        vertical-align: top;\n",
       "    }\n",
       "\n",
       "    .dataframe thead th {\n",
       "        text-align: right;\n",
       "    }\n",
       "</style>\n",
       "<table border=\"1\" class=\"dataframe\">\n",
       "  <thead>\n",
       "    <tr style=\"text-align: right;\">\n",
       "      <th></th>\n",
       "      <th>AtBat</th>\n",
       "      <th>Hits</th>\n",
       "      <th>HmRun</th>\n",
       "      <th>Runs</th>\n",
       "      <th>RBI</th>\n",
       "      <th>Walks</th>\n",
       "      <th>Years</th>\n",
       "      <th>CAtBat</th>\n",
       "      <th>CHits</th>\n",
       "      <th>CHmRun</th>\n",
       "      <th>CRuns</th>\n",
       "      <th>CRBI</th>\n",
       "      <th>CWalks</th>\n",
       "      <th>PutOuts</th>\n",
       "      <th>Assists</th>\n",
       "      <th>Errors</th>\n",
       "      <th>Salary</th>\n",
       "      <th>League_N</th>\n",
       "      <th>Division_W</th>\n",
       "      <th>NewLeague_N</th>\n",
       "    </tr>\n",
       "  </thead>\n",
       "  <tbody>\n",
       "    <tr>\n",
       "      <td>AtBat</td>\n",
       "      <td>1.000000</td>\n",
       "      <td>0.963969</td>\n",
       "      <td>0.555102</td>\n",
       "      <td>0.899829</td>\n",
       "      <td>0.796015</td>\n",
       "      <td>0.624448</td>\n",
       "      <td>0.012725</td>\n",
       "      <td>0.207166</td>\n",
       "      <td>0.225341</td>\n",
       "      <td>0.212422</td>\n",
       "      <td>0.237278</td>\n",
       "      <td>0.221393</td>\n",
       "      <td>0.132926</td>\n",
       "      <td>0.309607</td>\n",
       "      <td>0.342117</td>\n",
       "      <td>0.325577</td>\n",
       "      <td>0.394771</td>\n",
       "      <td>-0.153176</td>\n",
       "      <td>-0.056341</td>\n",
       "      <td>-0.089838</td>\n",
       "    </tr>\n",
       "    <tr>\n",
       "      <td>Hits</td>\n",
       "      <td>0.963969</td>\n",
       "      <td>1.000000</td>\n",
       "      <td>0.530627</td>\n",
       "      <td>0.910630</td>\n",
       "      <td>0.788478</td>\n",
       "      <td>0.587311</td>\n",
       "      <td>0.018598</td>\n",
       "      <td>0.206678</td>\n",
       "      <td>0.235606</td>\n",
       "      <td>0.189364</td>\n",
       "      <td>0.238896</td>\n",
       "      <td>0.219384</td>\n",
       "      <td>0.122971</td>\n",
       "      <td>0.299688</td>\n",
       "      <td>0.303975</td>\n",
       "      <td>0.279876</td>\n",
       "      <td>0.438675</td>\n",
       "      <td>-0.153522</td>\n",
       "      <td>-0.083266</td>\n",
       "      <td>-0.094990</td>\n",
       "    </tr>\n",
       "    <tr>\n",
       "      <td>HmRun</td>\n",
       "      <td>0.555102</td>\n",
       "      <td>0.530627</td>\n",
       "      <td>1.000000</td>\n",
       "      <td>0.631076</td>\n",
       "      <td>0.849107</td>\n",
       "      <td>0.440454</td>\n",
       "      <td>0.113488</td>\n",
       "      <td>0.217464</td>\n",
       "      <td>0.217496</td>\n",
       "      <td>0.492526</td>\n",
       "      <td>0.258347</td>\n",
       "      <td>0.349858</td>\n",
       "      <td>0.227183</td>\n",
       "      <td>0.250931</td>\n",
       "      <td>-0.161602</td>\n",
       "      <td>-0.009743</td>\n",
       "      <td>0.343028</td>\n",
       "      <td>-0.222965</td>\n",
       "      <td>-0.034851</td>\n",
       "      <td>-0.199424</td>\n",
       "    </tr>\n",
       "    <tr>\n",
       "      <td>Runs</td>\n",
       "      <td>0.899829</td>\n",
       "      <td>0.910630</td>\n",
       "      <td>0.631076</td>\n",
       "      <td>1.000000</td>\n",
       "      <td>0.778692</td>\n",
       "      <td>0.697015</td>\n",
       "      <td>-0.011975</td>\n",
       "      <td>0.171811</td>\n",
       "      <td>0.191327</td>\n",
       "      <td>0.229701</td>\n",
       "      <td>0.237831</td>\n",
       "      <td>0.202335</td>\n",
       "      <td>0.163700</td>\n",
       "      <td>0.271160</td>\n",
       "      <td>0.179258</td>\n",
       "      <td>0.192609</td>\n",
       "      <td>0.419859</td>\n",
       "      <td>-0.206001</td>\n",
       "      <td>-0.107672</td>\n",
       "      <td>-0.154911</td>\n",
       "    </tr>\n",
       "    <tr>\n",
       "      <td>RBI</td>\n",
       "      <td>0.796015</td>\n",
       "      <td>0.788478</td>\n",
       "      <td>0.849107</td>\n",
       "      <td>0.778692</td>\n",
       "      <td>1.000000</td>\n",
       "      <td>0.569505</td>\n",
       "      <td>0.129668</td>\n",
       "      <td>0.278126</td>\n",
       "      <td>0.292137</td>\n",
       "      <td>0.442190</td>\n",
       "      <td>0.307226</td>\n",
       "      <td>0.387777</td>\n",
       "      <td>0.233619</td>\n",
       "      <td>0.312065</td>\n",
       "      <td>0.062902</td>\n",
       "      <td>0.150155</td>\n",
       "      <td>0.449457</td>\n",
       "      <td>-0.185858</td>\n",
       "      <td>-0.090157</td>\n",
       "      <td>-0.143549</td>\n",
       "    </tr>\n",
       "    <tr>\n",
       "      <td>Walks</td>\n",
       "      <td>0.624448</td>\n",
       "      <td>0.587311</td>\n",
       "      <td>0.440454</td>\n",
       "      <td>0.697015</td>\n",
       "      <td>0.569505</td>\n",
       "      <td>1.000000</td>\n",
       "      <td>0.134793</td>\n",
       "      <td>0.269450</td>\n",
       "      <td>0.270795</td>\n",
       "      <td>0.349582</td>\n",
       "      <td>0.332977</td>\n",
       "      <td>0.312697</td>\n",
       "      <td>0.429140</td>\n",
       "      <td>0.280855</td>\n",
       "      <td>0.102523</td>\n",
       "      <td>0.081937</td>\n",
       "      <td>0.443867</td>\n",
       "      <td>-0.065760</td>\n",
       "      <td>-0.072732</td>\n",
       "      <td>-0.028461</td>\n",
       "    </tr>\n",
       "    <tr>\n",
       "      <td>Years</td>\n",
       "      <td>0.012725</td>\n",
       "      <td>0.018598</td>\n",
       "      <td>0.113488</td>\n",
       "      <td>-0.011975</td>\n",
       "      <td>0.129668</td>\n",
       "      <td>0.134793</td>\n",
       "      <td>1.000000</td>\n",
       "      <td>0.915681</td>\n",
       "      <td>0.897844</td>\n",
       "      <td>0.722371</td>\n",
       "      <td>0.876649</td>\n",
       "      <td>0.863809</td>\n",
       "      <td>0.837524</td>\n",
       "      <td>-0.020019</td>\n",
       "      <td>-0.085118</td>\n",
       "      <td>-0.156512</td>\n",
       "      <td>0.400657</td>\n",
       "      <td>-0.032893</td>\n",
       "      <td>-0.020316</td>\n",
       "      <td>-0.023964</td>\n",
       "    </tr>\n",
       "    <tr>\n",
       "      <td>CAtBat</td>\n",
       "      <td>0.207166</td>\n",
       "      <td>0.206678</td>\n",
       "      <td>0.217464</td>\n",
       "      <td>0.171811</td>\n",
       "      <td>0.278126</td>\n",
       "      <td>0.269450</td>\n",
       "      <td>0.915681</td>\n",
       "      <td>1.000000</td>\n",
       "      <td>0.995057</td>\n",
       "      <td>0.801676</td>\n",
       "      <td>0.982747</td>\n",
       "      <td>0.950730</td>\n",
       "      <td>0.906712</td>\n",
       "      <td>0.053393</td>\n",
       "      <td>-0.007897</td>\n",
       "      <td>-0.070478</td>\n",
       "      <td>0.526135</td>\n",
       "      <td>-0.023704</td>\n",
       "      <td>-0.018623</td>\n",
       "      <td>-0.004294</td>\n",
       "    </tr>\n",
       "    <tr>\n",
       "      <td>CHits</td>\n",
       "      <td>0.225341</td>\n",
       "      <td>0.235606</td>\n",
       "      <td>0.217496</td>\n",
       "      <td>0.191327</td>\n",
       "      <td>0.292137</td>\n",
       "      <td>0.270795</td>\n",
       "      <td>0.897844</td>\n",
       "      <td>0.995057</td>\n",
       "      <td>1.000000</td>\n",
       "      <td>0.786652</td>\n",
       "      <td>0.984542</td>\n",
       "      <td>0.946797</td>\n",
       "      <td>0.890718</td>\n",
       "      <td>0.067348</td>\n",
       "      <td>-0.013144</td>\n",
       "      <td>-0.068036</td>\n",
       "      <td>0.548910</td>\n",
       "      <td>-0.022853</td>\n",
       "      <td>-0.023642</td>\n",
       "      <td>0.000887</td>\n",
       "    </tr>\n",
       "    <tr>\n",
       "      <td>CHmRun</td>\n",
       "      <td>0.212422</td>\n",
       "      <td>0.189364</td>\n",
       "      <td>0.492526</td>\n",
       "      <td>0.229701</td>\n",
       "      <td>0.442190</td>\n",
       "      <td>0.349582</td>\n",
       "      <td>0.722371</td>\n",
       "      <td>0.801676</td>\n",
       "      <td>0.786652</td>\n",
       "      <td>1.000000</td>\n",
       "      <td>0.825625</td>\n",
       "      <td>0.927903</td>\n",
       "      <td>0.810878</td>\n",
       "      <td>0.093822</td>\n",
       "      <td>-0.188886</td>\n",
       "      <td>-0.165369</td>\n",
       "      <td>0.524931</td>\n",
       "      <td>-0.107299</td>\n",
       "      <td>-0.026987</td>\n",
       "      <td>-0.100298</td>\n",
       "    </tr>\n",
       "    <tr>\n",
       "      <td>CRuns</td>\n",
       "      <td>0.237278</td>\n",
       "      <td>0.238896</td>\n",
       "      <td>0.258347</td>\n",
       "      <td>0.237831</td>\n",
       "      <td>0.307226</td>\n",
       "      <td>0.332977</td>\n",
       "      <td>0.876649</td>\n",
       "      <td>0.982747</td>\n",
       "      <td>0.984542</td>\n",
       "      <td>0.825625</td>\n",
       "      <td>1.000000</td>\n",
       "      <td>0.945677</td>\n",
       "      <td>0.927768</td>\n",
       "      <td>0.059087</td>\n",
       "      <td>-0.038895</td>\n",
       "      <td>-0.094081</td>\n",
       "      <td>0.562678</td>\n",
       "      <td>-0.054318</td>\n",
       "      <td>-0.046812</td>\n",
       "      <td>-0.034618</td>\n",
       "    </tr>\n",
       "    <tr>\n",
       "      <td>CRBI</td>\n",
       "      <td>0.221393</td>\n",
       "      <td>0.219384</td>\n",
       "      <td>0.349858</td>\n",
       "      <td>0.202335</td>\n",
       "      <td>0.387777</td>\n",
       "      <td>0.312697</td>\n",
       "      <td>0.863809</td>\n",
       "      <td>0.950730</td>\n",
       "      <td>0.946797</td>\n",
       "      <td>0.927903</td>\n",
       "      <td>0.945677</td>\n",
       "      <td>1.000000</td>\n",
       "      <td>0.889137</td>\n",
       "      <td>0.095375</td>\n",
       "      <td>-0.096559</td>\n",
       "      <td>-0.115316</td>\n",
       "      <td>0.566966</td>\n",
       "      <td>-0.051421</td>\n",
       "      <td>-0.021564</td>\n",
       "      <td>-0.037184</td>\n",
       "    </tr>\n",
       "    <tr>\n",
       "      <td>CWalks</td>\n",
       "      <td>0.132926</td>\n",
       "      <td>0.122971</td>\n",
       "      <td>0.227183</td>\n",
       "      <td>0.163700</td>\n",
       "      <td>0.233619</td>\n",
       "      <td>0.429140</td>\n",
       "      <td>0.837524</td>\n",
       "      <td>0.906712</td>\n",
       "      <td>0.890718</td>\n",
       "      <td>0.810878</td>\n",
       "      <td>0.927768</td>\n",
       "      <td>0.889137</td>\n",
       "      <td>1.000000</td>\n",
       "      <td>0.058160</td>\n",
       "      <td>-0.066243</td>\n",
       "      <td>-0.129936</td>\n",
       "      <td>0.489822</td>\n",
       "      <td>-0.028988</td>\n",
       "      <td>-0.050494</td>\n",
       "      <td>-0.025703</td>\n",
       "    </tr>\n",
       "    <tr>\n",
       "      <td>PutOuts</td>\n",
       "      <td>0.309607</td>\n",
       "      <td>0.299688</td>\n",
       "      <td>0.250931</td>\n",
       "      <td>0.271160</td>\n",
       "      <td>0.312065</td>\n",
       "      <td>0.280855</td>\n",
       "      <td>-0.020019</td>\n",
       "      <td>0.053393</td>\n",
       "      <td>0.067348</td>\n",
       "      <td>0.093822</td>\n",
       "      <td>0.059087</td>\n",
       "      <td>0.095375</td>\n",
       "      <td>0.058160</td>\n",
       "      <td>1.000000</td>\n",
       "      <td>-0.043390</td>\n",
       "      <td>0.075306</td>\n",
       "      <td>0.300480</td>\n",
       "      <td>0.039525</td>\n",
       "      <td>-0.025351</td>\n",
       "      <td>0.055048</td>\n",
       "    </tr>\n",
       "    <tr>\n",
       "      <td>Assists</td>\n",
       "      <td>0.342117</td>\n",
       "      <td>0.303975</td>\n",
       "      <td>-0.161602</td>\n",
       "      <td>0.179258</td>\n",
       "      <td>0.062902</td>\n",
       "      <td>0.102523</td>\n",
       "      <td>-0.085118</td>\n",
       "      <td>-0.007897</td>\n",
       "      <td>-0.013144</td>\n",
       "      <td>-0.188886</td>\n",
       "      <td>-0.038895</td>\n",
       "      <td>-0.096559</td>\n",
       "      <td>-0.066243</td>\n",
       "      <td>-0.043390</td>\n",
       "      <td>1.000000</td>\n",
       "      <td>0.703505</td>\n",
       "      <td>0.025436</td>\n",
       "      <td>0.052060</td>\n",
       "      <td>-0.017486</td>\n",
       "      <td>0.044136</td>\n",
       "    </tr>\n",
       "    <tr>\n",
       "      <td>Errors</td>\n",
       "      <td>0.325577</td>\n",
       "      <td>0.279876</td>\n",
       "      <td>-0.009743</td>\n",
       "      <td>0.192609</td>\n",
       "      <td>0.150155</td>\n",
       "      <td>0.081937</td>\n",
       "      <td>-0.156512</td>\n",
       "      <td>-0.070478</td>\n",
       "      <td>-0.068036</td>\n",
       "      <td>-0.165369</td>\n",
       "      <td>-0.094081</td>\n",
       "      <td>-0.115316</td>\n",
       "      <td>-0.129936</td>\n",
       "      <td>0.075306</td>\n",
       "      <td>0.703505</td>\n",
       "      <td>1.000000</td>\n",
       "      <td>-0.005401</td>\n",
       "      <td>0.091774</td>\n",
       "      <td>-0.000557</td>\n",
       "      <td>0.063173</td>\n",
       "    </tr>\n",
       "    <tr>\n",
       "      <td>Salary</td>\n",
       "      <td>0.394771</td>\n",
       "      <td>0.438675</td>\n",
       "      <td>0.343028</td>\n",
       "      <td>0.419859</td>\n",
       "      <td>0.449457</td>\n",
       "      <td>0.443867</td>\n",
       "      <td>0.400657</td>\n",
       "      <td>0.526135</td>\n",
       "      <td>0.548910</td>\n",
       "      <td>0.524931</td>\n",
       "      <td>0.562678</td>\n",
       "      <td>0.566966</td>\n",
       "      <td>0.489822</td>\n",
       "      <td>0.300480</td>\n",
       "      <td>0.025436</td>\n",
       "      <td>-0.005401</td>\n",
       "      <td>1.000000</td>\n",
       "      <td>-0.014282</td>\n",
       "      <td>-0.192514</td>\n",
       "      <td>-0.002834</td>\n",
       "    </tr>\n",
       "    <tr>\n",
       "      <td>League_N</td>\n",
       "      <td>-0.153176</td>\n",
       "      <td>-0.153522</td>\n",
       "      <td>-0.222965</td>\n",
       "      <td>-0.206001</td>\n",
       "      <td>-0.185858</td>\n",
       "      <td>-0.065760</td>\n",
       "      <td>-0.032893</td>\n",
       "      <td>-0.023704</td>\n",
       "      <td>-0.022853</td>\n",
       "      <td>-0.107299</td>\n",
       "      <td>-0.054318</td>\n",
       "      <td>-0.051421</td>\n",
       "      <td>-0.028988</td>\n",
       "      <td>0.039525</td>\n",
       "      <td>0.052060</td>\n",
       "      <td>0.091774</td>\n",
       "      <td>-0.014282</td>\n",
       "      <td>1.000000</td>\n",
       "      <td>-0.002723</td>\n",
       "      <td>0.862652</td>\n",
       "    </tr>\n",
       "    <tr>\n",
       "      <td>Division_W</td>\n",
       "      <td>-0.056341</td>\n",
       "      <td>-0.083266</td>\n",
       "      <td>-0.034851</td>\n",
       "      <td>-0.107672</td>\n",
       "      <td>-0.090157</td>\n",
       "      <td>-0.072732</td>\n",
       "      <td>-0.020316</td>\n",
       "      <td>-0.018623</td>\n",
       "      <td>-0.023642</td>\n",
       "      <td>-0.026987</td>\n",
       "      <td>-0.046812</td>\n",
       "      <td>-0.021564</td>\n",
       "      <td>-0.050494</td>\n",
       "      <td>-0.025351</td>\n",
       "      <td>-0.017486</td>\n",
       "      <td>-0.000557</td>\n",
       "      <td>-0.192514</td>\n",
       "      <td>-0.002723</td>\n",
       "      <td>1.000000</td>\n",
       "      <td>-0.002436</td>\n",
       "    </tr>\n",
       "    <tr>\n",
       "      <td>NewLeague_N</td>\n",
       "      <td>-0.089838</td>\n",
       "      <td>-0.094990</td>\n",
       "      <td>-0.199424</td>\n",
       "      <td>-0.154911</td>\n",
       "      <td>-0.143549</td>\n",
       "      <td>-0.028461</td>\n",
       "      <td>-0.023964</td>\n",
       "      <td>-0.004294</td>\n",
       "      <td>0.000887</td>\n",
       "      <td>-0.100298</td>\n",
       "      <td>-0.034618</td>\n",
       "      <td>-0.037184</td>\n",
       "      <td>-0.025703</td>\n",
       "      <td>0.055048</td>\n",
       "      <td>0.044136</td>\n",
       "      <td>0.063173</td>\n",
       "      <td>-0.002834</td>\n",
       "      <td>0.862652</td>\n",
       "      <td>-0.002436</td>\n",
       "      <td>1.000000</td>\n",
       "    </tr>\n",
       "  </tbody>\n",
       "</table>\n",
       "</div>"
      ],
      "text/plain": [
       "                AtBat      Hits     HmRun      Runs       RBI     Walks  \\\n",
       "AtBat        1.000000  0.963969  0.555102  0.899829  0.796015  0.624448   \n",
       "Hits         0.963969  1.000000  0.530627  0.910630  0.788478  0.587311   \n",
       "HmRun        0.555102  0.530627  1.000000  0.631076  0.849107  0.440454   \n",
       "Runs         0.899829  0.910630  0.631076  1.000000  0.778692  0.697015   \n",
       "RBI          0.796015  0.788478  0.849107  0.778692  1.000000  0.569505   \n",
       "Walks        0.624448  0.587311  0.440454  0.697015  0.569505  1.000000   \n",
       "Years        0.012725  0.018598  0.113488 -0.011975  0.129668  0.134793   \n",
       "CAtBat       0.207166  0.206678  0.217464  0.171811  0.278126  0.269450   \n",
       "CHits        0.225341  0.235606  0.217496  0.191327  0.292137  0.270795   \n",
       "CHmRun       0.212422  0.189364  0.492526  0.229701  0.442190  0.349582   \n",
       "CRuns        0.237278  0.238896  0.258347  0.237831  0.307226  0.332977   \n",
       "CRBI         0.221393  0.219384  0.349858  0.202335  0.387777  0.312697   \n",
       "CWalks       0.132926  0.122971  0.227183  0.163700  0.233619  0.429140   \n",
       "PutOuts      0.309607  0.299688  0.250931  0.271160  0.312065  0.280855   \n",
       "Assists      0.342117  0.303975 -0.161602  0.179258  0.062902  0.102523   \n",
       "Errors       0.325577  0.279876 -0.009743  0.192609  0.150155  0.081937   \n",
       "Salary       0.394771  0.438675  0.343028  0.419859  0.449457  0.443867   \n",
       "League_N    -0.153176 -0.153522 -0.222965 -0.206001 -0.185858 -0.065760   \n",
       "Division_W  -0.056341 -0.083266 -0.034851 -0.107672 -0.090157 -0.072732   \n",
       "NewLeague_N -0.089838 -0.094990 -0.199424 -0.154911 -0.143549 -0.028461   \n",
       "\n",
       "                Years    CAtBat     CHits    CHmRun     CRuns      CRBI  \\\n",
       "AtBat        0.012725  0.207166  0.225341  0.212422  0.237278  0.221393   \n",
       "Hits         0.018598  0.206678  0.235606  0.189364  0.238896  0.219384   \n",
       "HmRun        0.113488  0.217464  0.217496  0.492526  0.258347  0.349858   \n",
       "Runs        -0.011975  0.171811  0.191327  0.229701  0.237831  0.202335   \n",
       "RBI          0.129668  0.278126  0.292137  0.442190  0.307226  0.387777   \n",
       "Walks        0.134793  0.269450  0.270795  0.349582  0.332977  0.312697   \n",
       "Years        1.000000  0.915681  0.897844  0.722371  0.876649  0.863809   \n",
       "CAtBat       0.915681  1.000000  0.995057  0.801676  0.982747  0.950730   \n",
       "CHits        0.897844  0.995057  1.000000  0.786652  0.984542  0.946797   \n",
       "CHmRun       0.722371  0.801676  0.786652  1.000000  0.825625  0.927903   \n",
       "CRuns        0.876649  0.982747  0.984542  0.825625  1.000000  0.945677   \n",
       "CRBI         0.863809  0.950730  0.946797  0.927903  0.945677  1.000000   \n",
       "CWalks       0.837524  0.906712  0.890718  0.810878  0.927768  0.889137   \n",
       "PutOuts     -0.020019  0.053393  0.067348  0.093822  0.059087  0.095375   \n",
       "Assists     -0.085118 -0.007897 -0.013144 -0.188886 -0.038895 -0.096559   \n",
       "Errors      -0.156512 -0.070478 -0.068036 -0.165369 -0.094081 -0.115316   \n",
       "Salary       0.400657  0.526135  0.548910  0.524931  0.562678  0.566966   \n",
       "League_N    -0.032893 -0.023704 -0.022853 -0.107299 -0.054318 -0.051421   \n",
       "Division_W  -0.020316 -0.018623 -0.023642 -0.026987 -0.046812 -0.021564   \n",
       "NewLeague_N -0.023964 -0.004294  0.000887 -0.100298 -0.034618 -0.037184   \n",
       "\n",
       "               CWalks   PutOuts   Assists    Errors    Salary  League_N  \\\n",
       "AtBat        0.132926  0.309607  0.342117  0.325577  0.394771 -0.153176   \n",
       "Hits         0.122971  0.299688  0.303975  0.279876  0.438675 -0.153522   \n",
       "HmRun        0.227183  0.250931 -0.161602 -0.009743  0.343028 -0.222965   \n",
       "Runs         0.163700  0.271160  0.179258  0.192609  0.419859 -0.206001   \n",
       "RBI          0.233619  0.312065  0.062902  0.150155  0.449457 -0.185858   \n",
       "Walks        0.429140  0.280855  0.102523  0.081937  0.443867 -0.065760   \n",
       "Years        0.837524 -0.020019 -0.085118 -0.156512  0.400657 -0.032893   \n",
       "CAtBat       0.906712  0.053393 -0.007897 -0.070478  0.526135 -0.023704   \n",
       "CHits        0.890718  0.067348 -0.013144 -0.068036  0.548910 -0.022853   \n",
       "CHmRun       0.810878  0.093822 -0.188886 -0.165369  0.524931 -0.107299   \n",
       "CRuns        0.927768  0.059087 -0.038895 -0.094081  0.562678 -0.054318   \n",
       "CRBI         0.889137  0.095375 -0.096559 -0.115316  0.566966 -0.051421   \n",
       "CWalks       1.000000  0.058160 -0.066243 -0.129936  0.489822 -0.028988   \n",
       "PutOuts      0.058160  1.000000 -0.043390  0.075306  0.300480  0.039525   \n",
       "Assists     -0.066243 -0.043390  1.000000  0.703505  0.025436  0.052060   \n",
       "Errors      -0.129936  0.075306  0.703505  1.000000 -0.005401  0.091774   \n",
       "Salary       0.489822  0.300480  0.025436 -0.005401  1.000000 -0.014282   \n",
       "League_N    -0.028988  0.039525  0.052060  0.091774 -0.014282  1.000000   \n",
       "Division_W  -0.050494 -0.025351 -0.017486 -0.000557 -0.192514 -0.002723   \n",
       "NewLeague_N -0.025703  0.055048  0.044136  0.063173 -0.002834  0.862652   \n",
       "\n",
       "             Division_W  NewLeague_N  \n",
       "AtBat         -0.056341    -0.089838  \n",
       "Hits          -0.083266    -0.094990  \n",
       "HmRun         -0.034851    -0.199424  \n",
       "Runs          -0.107672    -0.154911  \n",
       "RBI           -0.090157    -0.143549  \n",
       "Walks         -0.072732    -0.028461  \n",
       "Years         -0.020316    -0.023964  \n",
       "CAtBat        -0.018623    -0.004294  \n",
       "CHits         -0.023642     0.000887  \n",
       "CHmRun        -0.026987    -0.100298  \n",
       "CRuns         -0.046812    -0.034618  \n",
       "CRBI          -0.021564    -0.037184  \n",
       "CWalks        -0.050494    -0.025703  \n",
       "PutOuts       -0.025351     0.055048  \n",
       "Assists       -0.017486     0.044136  \n",
       "Errors        -0.000557     0.063173  \n",
       "Salary        -0.192514    -0.002834  \n",
       "League_N      -0.002723     0.862652  \n",
       "Division_W     1.000000    -0.002436  \n",
       "NewLeague_N   -0.002436     1.000000  "
      ]
     },
     "execution_count": 100,
     "metadata": {},
     "output_type": "execute_result"
    }
   ],
   "source": [
    "df.corr()"
   ]
  },
  {
   "cell_type": "code",
   "execution_count": 101,
   "metadata": {},
   "outputs": [
    {
     "data": {
      "text/html": [
       "<div>\n",
       "<style scoped>\n",
       "    .dataframe tbody tr th:only-of-type {\n",
       "        vertical-align: middle;\n",
       "    }\n",
       "\n",
       "    .dataframe tbody tr th {\n",
       "        vertical-align: top;\n",
       "    }\n",
       "\n",
       "    .dataframe thead th {\n",
       "        text-align: right;\n",
       "    }\n",
       "</style>\n",
       "<table border=\"1\" class=\"dataframe\">\n",
       "  <thead>\n",
       "    <tr style=\"text-align: right;\">\n",
       "      <th></th>\n",
       "      <th>AtBat</th>\n",
       "      <th>Hits</th>\n",
       "      <th>HmRun</th>\n",
       "      <th>Runs</th>\n",
       "      <th>RBI</th>\n",
       "      <th>Walks</th>\n",
       "      <th>Years</th>\n",
       "      <th>CAtBat</th>\n",
       "      <th>CHits</th>\n",
       "      <th>CHmRun</th>\n",
       "      <th>CRuns</th>\n",
       "      <th>CRBI</th>\n",
       "      <th>CWalks</th>\n",
       "      <th>PutOuts</th>\n",
       "      <th>Assists</th>\n",
       "      <th>Errors</th>\n",
       "      <th>Salary</th>\n",
       "      <th>League_N</th>\n",
       "      <th>Division_W</th>\n",
       "      <th>NewLeague_N</th>\n",
       "    </tr>\n",
       "  </thead>\n",
       "  <tbody>\n",
       "    <tr>\n",
       "      <td>1</td>\n",
       "      <td>315</td>\n",
       "      <td>81</td>\n",
       "      <td>7</td>\n",
       "      <td>24</td>\n",
       "      <td>38</td>\n",
       "      <td>39</td>\n",
       "      <td>14</td>\n",
       "      <td>3449</td>\n",
       "      <td>835</td>\n",
       "      <td>69</td>\n",
       "      <td>321</td>\n",
       "      <td>414</td>\n",
       "      <td>375</td>\n",
       "      <td>632</td>\n",
       "      <td>43</td>\n",
       "      <td>10</td>\n",
       "      <td>475.0</td>\n",
       "      <td>1</td>\n",
       "      <td>1</td>\n",
       "      <td>1</td>\n",
       "    </tr>\n",
       "    <tr>\n",
       "      <td>2</td>\n",
       "      <td>479</td>\n",
       "      <td>130</td>\n",
       "      <td>18</td>\n",
       "      <td>66</td>\n",
       "      <td>72</td>\n",
       "      <td>76</td>\n",
       "      <td>3</td>\n",
       "      <td>1624</td>\n",
       "      <td>457</td>\n",
       "      <td>63</td>\n",
       "      <td>224</td>\n",
       "      <td>266</td>\n",
       "      <td>263</td>\n",
       "      <td>880</td>\n",
       "      <td>82</td>\n",
       "      <td>14</td>\n",
       "      <td>480.0</td>\n",
       "      <td>0</td>\n",
       "      <td>1</td>\n",
       "      <td>0</td>\n",
       "    </tr>\n",
       "    <tr>\n",
       "      <td>3</td>\n",
       "      <td>496</td>\n",
       "      <td>141</td>\n",
       "      <td>20</td>\n",
       "      <td>65</td>\n",
       "      <td>78</td>\n",
       "      <td>37</td>\n",
       "      <td>11</td>\n",
       "      <td>5628</td>\n",
       "      <td>1575</td>\n",
       "      <td>225</td>\n",
       "      <td>828</td>\n",
       "      <td>838</td>\n",
       "      <td>354</td>\n",
       "      <td>200</td>\n",
       "      <td>11</td>\n",
       "      <td>3</td>\n",
       "      <td>500.0</td>\n",
       "      <td>1</td>\n",
       "      <td>0</td>\n",
       "      <td>1</td>\n",
       "    </tr>\n",
       "    <tr>\n",
       "      <td>4</td>\n",
       "      <td>321</td>\n",
       "      <td>87</td>\n",
       "      <td>10</td>\n",
       "      <td>39</td>\n",
       "      <td>42</td>\n",
       "      <td>30</td>\n",
       "      <td>2</td>\n",
       "      <td>396</td>\n",
       "      <td>101</td>\n",
       "      <td>12</td>\n",
       "      <td>48</td>\n",
       "      <td>46</td>\n",
       "      <td>33</td>\n",
       "      <td>805</td>\n",
       "      <td>40</td>\n",
       "      <td>4</td>\n",
       "      <td>91.5</td>\n",
       "      <td>1</td>\n",
       "      <td>0</td>\n",
       "      <td>1</td>\n",
       "    </tr>\n",
       "    <tr>\n",
       "      <td>5</td>\n",
       "      <td>594</td>\n",
       "      <td>169</td>\n",
       "      <td>4</td>\n",
       "      <td>74</td>\n",
       "      <td>51</td>\n",
       "      <td>35</td>\n",
       "      <td>11</td>\n",
       "      <td>4408</td>\n",
       "      <td>1133</td>\n",
       "      <td>19</td>\n",
       "      <td>501</td>\n",
       "      <td>336</td>\n",
       "      <td>194</td>\n",
       "      <td>282</td>\n",
       "      <td>421</td>\n",
       "      <td>25</td>\n",
       "      <td>750.0</td>\n",
       "      <td>0</td>\n",
       "      <td>1</td>\n",
       "      <td>0</td>\n",
       "    </tr>\n",
       "  </tbody>\n",
       "</table>\n",
       "</div>"
      ],
      "text/plain": [
       "   AtBat  Hits  HmRun  Runs  RBI  Walks  Years  CAtBat  CHits  CHmRun  CRuns  \\\n",
       "1    315    81      7    24   38     39     14    3449    835      69    321   \n",
       "2    479   130     18    66   72     76      3    1624    457      63    224   \n",
       "3    496   141     20    65   78     37     11    5628   1575     225    828   \n",
       "4    321    87     10    39   42     30      2     396    101      12     48   \n",
       "5    594   169      4    74   51     35     11    4408   1133      19    501   \n",
       "\n",
       "   CRBI  CWalks  PutOuts  Assists  Errors  Salary  League_N  Division_W  \\\n",
       "1   414     375      632       43      10   475.0         1           1   \n",
       "2   266     263      880       82      14   480.0         0           1   \n",
       "3   838     354      200       11       3   500.0         1           0   \n",
       "4    46      33      805       40       4    91.5         1           0   \n",
       "5   336     194      282      421      25   750.0         0           1   \n",
       "\n",
       "   NewLeague_N  \n",
       "1            1  \n",
       "2            0  \n",
       "3            1  \n",
       "4            1  \n",
       "5            0  "
      ]
     },
     "execution_count": 101,
     "metadata": {},
     "output_type": "execute_result"
    }
   ],
   "source": [
    "df.head()"
   ]
  },
  {
   "cell_type": "markdown",
   "metadata": {},
   "source": [
    "𝑦_𝑖 = 𝑏_0+ 𝑏_1 𝑥_𝑖\n",
    "\n",
    "B0 + B1*X1 + ... + BPXP"
   ]
  },
  {
   "cell_type": "markdown",
   "metadata": {},
   "source": [
    "yi^2 -2*yi*yhat + yhat^2"
   ]
  },
  {
   "cell_type": "markdown",
   "metadata": {},
   "source": [
    "yi^2 -2*yi*(B0 + B1*X1 + ... + BP*XP) + (B0 + B1*X1 + ... + BPXP)^2"
   ]
  },
  {
   "cell_type": "markdown",
   "metadata": {},
   "source": [
    "-2*yi*(B0 + B1*X1 + ... + BP*XP)"
   ]
  },
  {
   "cell_type": "markdown",
   "metadata": {},
   "source": [
    "-B0 - B1X1 - B2X2 - .. - BP*XP"
   ]
  },
  {
   "cell_type": "markdown",
   "metadata": {},
   "source": [
    "lambda*B1^2 + lambda*B2^2 + ... + lambda*BP^2"
   ]
  },
  {
   "cell_type": "markdown",
   "metadata": {},
   "source": [
    "0.3*(-B1)^2 + (- B1)X1"
   ]
  },
  {
   "cell_type": "code",
   "execution_count": null,
   "metadata": {},
   "outputs": [],
   "source": []
  }
 ],
 "metadata": {
  "kernelspec": {
   "display_name": "Python 3",
   "language": "python",
   "name": "python3"
  },
  "language_info": {
   "codemirror_mode": {
    "name": "ipython",
    "version": 3
   },
   "file_extension": ".py",
   "mimetype": "text/x-python",
   "name": "python",
   "nbconvert_exporter": "python",
   "pygments_lexer": "ipython3",
   "version": "3.7.4"
  }
 },
 "nbformat": 4,
 "nbformat_minor": 4
}
